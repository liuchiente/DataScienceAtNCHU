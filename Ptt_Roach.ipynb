{
  "nbformat": 4,
  "nbformat_minor": 0,
  "metadata": {
    "colab": {
      "name": "Ptt_Roach.ipynb",
      "provenance": [],
      "collapsed_sections": [],
      "toc_visible": true,
      "include_colab_link": true
    },
    "kernelspec": {
      "display_name": "Python 3",
      "name": "python3"
    }
  },
  "cells": [
    {
      "cell_type": "markdown",
      "metadata": {
        "id": "view-in-github",
        "colab_type": "text"
      },
      "source": [
        "<a href=\"https://colab.research.google.com/github/liuchiente/UDICatNCHU/blob/main/Ptt_Roach.ipynb\" target=\"_parent\"><img src=\"https://colab.research.google.com/assets/colab-badge.svg\" alt=\"Open In Colab\"/></a>"
      ]
    },
    {
      "cell_type": "markdown",
      "metadata": {
        "id": "vuqQYFz1zioD"
      },
      "source": [
        "#切換路徑"
      ]
    },
    {
      "cell_type": "code",
      "metadata": {
        "id": "BZgraha6zURU",
        "colab": {
          "base_uri": "https://localhost:8080/"
        },
        "outputId": "be8b32de-98a2-4a7c-badb-95746e5e00c7"
      },
      "source": [
        "sys_dir = \"/content/drive/My Drive/Colab Notebooks/pttroach/\"\n",
        "#連接並mount自己的雲端硬碟(點選跑出網址複製最後的授權碼貼上並執行)\n",
        "from google.colab import drive\n",
        "drive.mount('/content/drive', force_remount=True)"
      ],
      "execution_count": 4,
      "outputs": [
        {
          "output_type": "stream",
          "text": [
            "Mounted at /content/drive\n"
          ],
          "name": "stdout"
        }
      ]
    },
    {
      "cell_type": "code",
      "metadata": {
        "id": "7zz5tXaQvFpk"
      },
      "source": [
        "#切換執行目錄\n",
        "import os\n",
        "if not os.path.isdir(sys_dir):\n",
        "    os.mkdir(sys_dir)\n",
        "os.chdir(sys_dir)"
      ],
      "execution_count": 5,
      "outputs": []
    },
    {
      "cell_type": "markdown",
      "metadata": {
        "id": "IPZ_6iBZzwmz"
      },
      "source": [
        "#引入套件"
      ]
    },
    {
      "cell_type": "code",
      "metadata": {
        "id": "wJ2hnQAr0Cg8",
        "colab": {
          "base_uri": "https://localhost:8080/"
        },
        "outputId": "4c624aa5-7895-4f8f-9f7b-a240d4312b07"
      },
      "source": [
        "! pip install fake_useragent"
      ],
      "execution_count": 6,
      "outputs": [
        {
          "output_type": "stream",
          "text": [
            "Collecting fake_useragent\n",
            "  Downloading https://files.pythonhosted.org/packages/d1/79/af647635d6968e2deb57a208d309f6069d31cb138066d7e821e575112a80/fake-useragent-0.1.11.tar.gz\n",
            "Building wheels for collected packages: fake-useragent\n",
            "  Building wheel for fake-useragent (setup.py) ... \u001b[?25l\u001b[?25hdone\n",
            "  Created wheel for fake-useragent: filename=fake_useragent-0.1.11-cp37-none-any.whl size=13485 sha256=dffe9bb5c2fc0e6e31ba227079cd08e37e08ccda70413b62693fa5e1284f49c5\n",
            "  Stored in directory: /root/.cache/pip/wheels/5e/63/09/d1dc15179f175357d3f5c00cbffbac37f9e8690d80545143ff\n",
            "Successfully built fake-useragent\n",
            "Installing collected packages: fake-useragent\n",
            "Successfully installed fake-useragent-0.1.11\n"
          ],
          "name": "stdout"
        }
      ]
    },
    {
      "cell_type": "code",
      "metadata": {
        "id": "wVnvTvfazyLD"
      },
      "source": [
        "#引入套件\n",
        "import requests\n",
        "import re\n",
        "import time\n",
        "import json\n",
        "from bs4 import BeautifulSoup\n",
        "from fake_useragent import UserAgent\n",
        "import datetime"
      ],
      "execution_count": 7,
      "outputs": []
    },
    {
      "cell_type": "markdown",
      "metadata": {
        "id": "0-jDbsIa0KIF"
      },
      "source": [
        "#定義基本Function"
      ]
    },
    {
      "cell_type": "code",
      "metadata": {
        "id": "WYDWkJ_d0N34"
      },
      "source": [
        "#隨機產生User angent,模擬瀏覽器行為,避免被阻擋\n",
        "def set_header_user_agent():\n",
        "    user_agent = UserAgent()\n",
        "    return user_agent.random\n",
        "\n",
        "#檢查是不是合法的網址\n",
        "def check_url(url):\n",
        "    regex = re.compile(\n",
        "        r'^(?:http|ftp)s?://' # http:// or https://\n",
        "        r'(?:(?:[A-Z0-9](?:[A-Z0-9-]{0,61}[A-Z0-9])?\\.)+(?:[A-Z]{2,6}\\.?|[A-Z0-9-]{2,}\\.?)|'\n",
        "        r'localhost|' #localhost...\n",
        "        r'\\d{1,3}\\.\\d{1,3}\\.\\d{1,3}\\.\\d{1,3})' # ...or ip\n",
        "        r'(?::\\d+)?' # optional port\n",
        "        r'(?:/?|[/?]\\S+)$', re.IGNORECASE)\n",
        "    return re.match(regex, url)\n",
        "\n",
        "#查詢資料\n",
        "def req_url(link,param):\n",
        "    user_agent = set_header_user_agent()\n",
        "    req=requests.get(link,headers={'user-agent': user_agent,'cookie': 'over18=1'},params=param)\n",
        "    #debug 網址\n",
        "    #print(req.url)\n",
        "    rslt=BeautifulSoup(req.text,'lxml')\n",
        "    return rslt"
      ],
      "execution_count": 8,
      "outputs": []
    },
    {
      "cell_type": "markdown",
      "metadata": {
        "id": "aKKZid8zeZvb"
      },
      "source": [
        "#設定查詢條件"
      ]
    },
    {
      "cell_type": "code",
      "metadata": {
        "id": "JuF6v_TxeYn7"
      },
      "source": [
        "#基本變數\n",
        "q=\"%5B新聞%5D\"\n",
        "#是否停止\n",
        "to_be_contiunted=True\n",
        "#頁數\n",
        "page=0\n",
        "#查詢結果\n",
        "r_list=[]\n",
        "#現在時間\n",
        "today = datetime.date.today()\n",
        "#開始抓文章時間,預設從上個月1號開始\n",
        "#first_day = today.replace(day=1,month=today.month-1)\n",
        "first_day = today - datetime.timedelta(days=1)\n",
        "#預設為空\n",
        "r_articles=[]\n",
        "if os.path.isfile('ptt_roach.json'):\n",
        "  r_json_f=open('ptt_roach.json', \"r\")\n",
        "  r_articles=json.loads(r_json_f.read())\n",
        "#最後一篇文章日期\n",
        "#if len(r_articles)>0:\n",
        "  #articles_last=r_articles[-1]\n",
        "  #print(articles_last)\n",
        "  #first_day=datetime.datetime.strptime(articles_last['d'], \"%Y/%m/%d\")\n",
        "#結束時間,預設抓一天\n",
        "#last_day = first_day + datetime.timedelta(days=1)\n",
        "r_articles.clear()\n",
        "#last_day = today - datetime.timedelta(days=1)\n",
        "last_day = today"
      ],
      "execution_count": 27,
      "outputs": []
    },
    {
      "cell_type": "markdown",
      "metadata": {
        "id": "KB7etz-80aV0"
      },
      "source": [
        "#查詢看板列表"
      ]
    },
    {
      "cell_type": "code",
      "metadata": {
        "id": "Y6MSAlK50crH",
        "colab": {
          "base_uri": "https://localhost:8080/"
        },
        "outputId": "e6b435ce-44ac-4773-f218-9f92e290ddb6"
      },
      "source": [
        "to_be_contiunted=True\n",
        "page=0\n",
        "#只抓出特定日期區間範圍的文章\n",
        "while to_be_contiunted:\n",
        "    page=page+1\n",
        "    rq=req_url('https://www.ptt.cc/bbs/Gossiping/search',{'q':'[新聞]','page':page})\n",
        "    req_articles=rq.findAll('div',attrs = {'class' : 'r-ent'})\n",
        "    for req_article in req_articles:\n",
        "        req_date_s=req_article.find('div',attrs = {'class' : 'date'}).text.strip().zfill(5)\n",
        "        #轉出時間\n",
        "        req_date=datetime.datetime.strptime(str(today.year)+\"/\"+req_date_s, \"%Y/%m/%d\")\n",
        "        if req_date.date() >= first_day and req_date.date() < last_day:\n",
        "          r_link=req_article.find('a').get(\"href\")\n",
        "          if req_article.find('a').text.startswith('[新聞]') and not (r_link in r_list):\n",
        "            #print(req_date_s+\" \"+req_article.find('a').text)\n",
        "            r_art=dict()\n",
        "            r_art['l']=r_link\n",
        "            r_art['d']=datetime.datetime.strftime(req_date,\"%Y/%m/%d\")\n",
        "            r_list.append(r_link)\n",
        "        elif req_date.date() < first_day:\n",
        "          to_be_contiunted=False\n",
        "          break\n",
        "    time.sleep(1)\n",
        "print(r_list)"
      ],
      "execution_count": 29,
      "outputs": [
        {
          "output_type": "stream",
          "text": [
            "['/bbs/Gossiping/M.1616169418.A.843.html', '/bbs/Gossiping/M.1616169098.A.1B1.html', '/bbs/Gossiping/M.1616167476.A.CE4.html', '/bbs/Gossiping/M.1616167288.A.7BB.html', '/bbs/Gossiping/M.1616166721.A.98A.html', '/bbs/Gossiping/M.1616166455.A.EAF.html', '/bbs/Gossiping/M.1616166185.A.31E.html', '/bbs/Gossiping/M.1616165189.A.51B.html', '/bbs/Gossiping/M.1616164941.A.637.html', '/bbs/Gossiping/M.1616164389.A.407.html', '/bbs/Gossiping/M.1616164085.A.195.html', '/bbs/Gossiping/M.1616164024.A.FA6.html', '/bbs/Gossiping/M.1616163950.A.F89.html', '/bbs/Gossiping/M.1616163518.A.EEA.html', '/bbs/Gossiping/M.1616163485.A.062.html', '/bbs/Gossiping/M.1616162361.A.AAD.html', '/bbs/Gossiping/M.1616162268.A.2AD.html', '/bbs/Gossiping/M.1616162248.A.99A.html', '/bbs/Gossiping/M.1616162098.A.337.html', '/bbs/Gossiping/M.1616161966.A.366.html', '/bbs/Gossiping/M.1616161441.A.FED.html', '/bbs/Gossiping/M.1616161261.A.7EF.html', '/bbs/Gossiping/M.1616161251.A.964.html', '/bbs/Gossiping/M.1616160914.A.6E4.html', '/bbs/Gossiping/M.1616160182.A.331.html', '/bbs/Gossiping/M.1616158080.A.AC4.html', '/bbs/Gossiping/M.1616158042.A.3D2.html', '/bbs/Gossiping/M.1616156644.A.8B0.html', '/bbs/Gossiping/M.1616156382.A.4B5.html', '/bbs/Gossiping/M.1616156265.A.15A.html', '/bbs/Gossiping/M.1616156241.A.3BD.html', '/bbs/Gossiping/M.1616155748.A.298.html', '/bbs/Gossiping/M.1616154406.A.690.html', '/bbs/Gossiping/M.1616154349.A.DE5.html', '/bbs/Gossiping/M.1616154294.A.CBF.html', '/bbs/Gossiping/M.1616153940.A.BA7.html', '/bbs/Gossiping/M.1616153603.A.896.html', '/bbs/Gossiping/M.1616153406.A.F6C.html', '/bbs/Gossiping/M.1616153298.A.2B8.html', '/bbs/Gossiping/M.1616153161.A.B8E.html', '/bbs/Gossiping/M.1616153063.A.F44.html', '/bbs/Gossiping/M.1616152519.A.8EC.html', '/bbs/Gossiping/M.1616152370.A.A0F.html', '/bbs/Gossiping/M.1616152362.A.FD3.html', '/bbs/Gossiping/M.1616152312.A.B9A.html', '/bbs/Gossiping/M.1616152172.A.C6C.html', '/bbs/Gossiping/M.1616152151.A.578.html', '/bbs/Gossiping/M.1616151140.A.51E.html', '/bbs/Gossiping/M.1616151051.A.344.html', '/bbs/Gossiping/M.1616150082.A.D30.html', '/bbs/Gossiping/M.1616150062.A.C9E.html', '/bbs/Gossiping/M.1616150006.A.850.html', '/bbs/Gossiping/M.1616149979.A.B5E.html', '/bbs/Gossiping/M.1616149133.A.751.html', '/bbs/Gossiping/M.1616148956.A.A16.html', '/bbs/Gossiping/M.1616148313.A.9C1.html', '/bbs/Gossiping/M.1616147880.A.ADC.html', '/bbs/Gossiping/M.1616147519.A.FD4.html', '/bbs/Gossiping/M.1616147072.A.EED.html', '/bbs/Gossiping/M.1616146192.A.984.html', '/bbs/Gossiping/M.1616146087.A.FBE.html', '/bbs/Gossiping/M.1616145528.A.755.html', '/bbs/Gossiping/M.1616145412.A.B19.html', '/bbs/Gossiping/M.1616145148.A.342.html', '/bbs/Gossiping/M.1616144270.A.893.html', '/bbs/Gossiping/M.1616144152.A.CAC.html', '/bbs/Gossiping/M.1616143713.A.648.html', '/bbs/Gossiping/M.1616143680.A.F15.html', '/bbs/Gossiping/M.1616143239.A.31B.html', '/bbs/Gossiping/M.1616142987.A.066.html', '/bbs/Gossiping/M.1616142758.A.E69.html', '/bbs/Gossiping/M.1616142251.A.972.html', '/bbs/Gossiping/M.1616142058.A.A9D.html', '/bbs/Gossiping/M.1616141505.A.2DF.html', '/bbs/Gossiping/M.1616141492.A.DD7.html', '/bbs/Gossiping/M.1616141357.A.348.html', '/bbs/Gossiping/M.1616140802.A.E2F.html', '/bbs/Gossiping/M.1616140447.A.C85.html', '/bbs/Gossiping/M.1616139179.A.82D.html', '/bbs/Gossiping/M.1616138650.A.F25.html', '/bbs/Gossiping/M.1616136852.A.BF9.html', '/bbs/Gossiping/M.1616136546.A.A8A.html', '/bbs/Gossiping/M.1616136368.A.521.html', '/bbs/Gossiping/M.1616135973.A.291.html', '/bbs/Gossiping/M.1616135892.A.587.html', '/bbs/Gossiping/M.1616134986.A.258.html', '/bbs/Gossiping/M.1616134702.A.2DC.html', '/bbs/Gossiping/M.1616134679.A.917.html', '/bbs/Gossiping/M.1616133961.A.032.html', '/bbs/Gossiping/M.1616133184.A.13E.html', '/bbs/Gossiping/M.1616132925.A.582.html', '/bbs/Gossiping/M.1616132622.A.EF6.html', '/bbs/Gossiping/M.1616132489.A.E03.html', '/bbs/Gossiping/M.1616131265.A.9DC.html', '/bbs/Gossiping/M.1616131118.A.AD0.html', '/bbs/Gossiping/M.1616130281.A.29B.html', '/bbs/Gossiping/M.1616130272.A.31A.html', '/bbs/Gossiping/M.1616129880.A.55F.html', '/bbs/Gossiping/M.1616129437.A.B58.html', '/bbs/Gossiping/M.1616129013.A.090.html', '/bbs/Gossiping/M.1616128844.A.6FE.html', '/bbs/Gossiping/M.1616128760.A.46A.html', '/bbs/Gossiping/M.1616128726.A.246.html', '/bbs/Gossiping/M.1616128679.A.378.html', '/bbs/Gossiping/M.1616128527.A.95B.html', '/bbs/Gossiping/M.1616128398.A.3EC.html', '/bbs/Gossiping/M.1616128269.A.D66.html', '/bbs/Gossiping/M.1616128196.A.297.html', '/bbs/Gossiping/M.1616128164.A.6C0.html', '/bbs/Gossiping/M.1616127931.A.6E8.html', '/bbs/Gossiping/M.1616127820.A.5FE.html', '/bbs/Gossiping/M.1616127002.A.7CC.html', '/bbs/Gossiping/M.1616126269.A.5F3.html', '/bbs/Gossiping/M.1616125492.A.F83.html', '/bbs/Gossiping/M.1616125259.A.C6A.html', '/bbs/Gossiping/M.1616125237.A.E48.html', '/bbs/Gossiping/M.1616124931.A.6C8.html', '/bbs/Gossiping/M.1616124289.A.E9D.html', '/bbs/Gossiping/M.1616124161.A.5EC.html', '/bbs/Gossiping/M.1616123786.A.D00.html', '/bbs/Gossiping/M.1616123396.A.16B.html', '/bbs/Gossiping/M.1616123378.A.F03.html', '/bbs/Gossiping/M.1616122836.A.F8E.html', '/bbs/Gossiping/M.1616122680.A.880.html', '/bbs/Gossiping/M.1616122494.A.750.html', '/bbs/Gossiping/M.1616121873.A.9F2.html', '/bbs/Gossiping/M.1616121790.A.4DE.html', '/bbs/Gossiping/M.1616121774.A.8EA.html', '/bbs/Gossiping/M.1616121690.A.4C9.html', '/bbs/Gossiping/M.1616121306.A.ABE.html', '/bbs/Gossiping/M.1616120936.A.6A8.html', '/bbs/Gossiping/M.1616120757.A.22D.html', '/bbs/Gossiping/M.1616120652.A.FDD.html', '/bbs/Gossiping/M.1616120057.A.929.html', '/bbs/Gossiping/M.1616119994.A.BFF.html', '/bbs/Gossiping/M.1616119824.A.262.html', '/bbs/Gossiping/M.1616119423.A.1E0.html', '/bbs/Gossiping/M.1616118454.A.2D5.html', '/bbs/Gossiping/M.1616117868.A.5AF.html', '/bbs/Gossiping/M.1616117541.A.B50.html', '/bbs/Gossiping/M.1616117473.A.627.html', '/bbs/Gossiping/M.1616117431.A.034.html', '/bbs/Gossiping/M.1616116888.A.CFC.html', '/bbs/Gossiping/M.1616116866.A.F7D.html', '/bbs/Gossiping/M.1616116848.A.5F8.html', '/bbs/Gossiping/M.1616116005.A.46D.html', '/bbs/Gossiping/M.1616115192.A.EEA.html', '/bbs/Gossiping/M.1616114459.A.A91.html', '/bbs/Gossiping/M.1616114403.A.7EC.html', '/bbs/Gossiping/M.1616113797.A.88C.html', '/bbs/Gossiping/M.1616113116.A.14A.html', '/bbs/Gossiping/M.1616113111.A.79C.html', '/bbs/Gossiping/M.1616112457.A.A8D.html', '/bbs/Gossiping/M.1616107596.A.D9C.html', '/bbs/Gossiping/M.1616107163.A.18A.html', '/bbs/Gossiping/M.1616096929.A.702.html', '/bbs/Gossiping/M.1616093752.A.ADE.html', '/bbs/Gossiping/M.1616087000.A.ED5.html', '/bbs/Gossiping/M.1616086080.A.9EC.html', '/bbs/Gossiping/M.1616084624.A.C1D.html']\n"
          ],
          "name": "stdout"
        }
      ]
    },
    {
      "cell_type": "markdown",
      "metadata": {
        "id": "eUFR_5HEU9lK"
      },
      "source": [
        "#儲存文章清單"
      ]
    },
    {
      "cell_type": "code",
      "metadata": {
        "id": "A9BAi3hNA3T1",
        "colab": {
          "base_uri": "https://localhost:8080/"
        },
        "outputId": "24313165-5315-45b3-d23f-433d2eceec30"
      },
      "source": [
        "print(len(r_list))\n",
        "print(r_list[-1])\n",
        "#寫入JSON檔案\n",
        "with open('ptt_roach.json', 'w', encoding='utf-8') as f:\n",
        "    json.dump(r_list, f, ensure_ascii=False, indent=4)"
      ],
      "execution_count": 31,
      "outputs": [
        {
          "output_type": "stream",
          "text": [
            "160\n",
            "/bbs/Gossiping/M.1616084624.A.C1D.html\n"
          ],
          "name": "stdout"
        }
      ]
    },
    {
      "cell_type": "markdown",
      "metadata": {
        "id": "sUbCLayBVBU5"
      },
      "source": [
        "#將文章各自爬回"
      ]
    },
    {
      "cell_type": "code",
      "metadata": {
        "id": "Z-pmQNdkyUWF",
        "colab": {
          "base_uri": "https://localhost:8080/"
        },
        "outputId": "6ee506dc-461e-4f6f-ef62-01c1fe96171e"
      },
      "source": [
        "#上次爬文結果\n",
        "r_article_contents=[]\n",
        "if os.path.exists('ptt_kerker_articles.json'):\n",
        "  rl_json_f=open('ptt_kerker_articles.json', \"r\")\n",
        "  r_article_contents=json.loads(rl_json_f.read())\n",
        "#文章列表清單\n",
        "rc_json_f=open('ptt_roach.json', \"r\")\n",
        "rr_list=json.loads(rc_json_f.read())"
      ],
      "execution_count": 34,
      "outputs": [
        {
          "output_type": "stream",
          "text": [
            "160\n",
            "0\n"
          ],
          "name": "stdout"
        }
      ]
    },
    {
      "cell_type": "code",
      "metadata": {
        "id": "km4NxCq_VIZP"
      },
      "source": [
        "#將文章清單取回\n",
        "for ra_url in rr_list[0:5]:\n",
        "    r_article=req_url(\"https://www.ptt.cc\"+ra_url,{})\n",
        "    r_push=r_article.findAll('div',attrs = {'class' : ['push','richcontent','article-metaline','article-metaline-right']})\n",
        "    for rp in r_push:\n",
        "        rp.decompose()\n",
        "    r_ah=r_article.findAll('a')\n",
        "    for rah in r_ah:\n",
        "        rah.decompose()\n",
        "    r_spa=r_article.findAll('span',attrs = {'class' : ['f2','f6','b6','b7','b3','f1','article-meta-tag','article-metaline','article-meta-value']})\n",
        "    for rspa in r_spa:\n",
        "        rspa.decompose()\n",
        "    r_info=r_article.find('div',attrs = {'id' : 'main-content'})\n",
        "    try:\n",
        "      r_article_content={}\n",
        "      r_article_content['id']=len(r_article_contents)+1\n",
        "      r_article_content['content']=r_info.text\n",
        "      r_article_contents.append(r_article_content)\n",
        "      rr_list.remove(ra_url)\n",
        "    except Exception as e:\n",
        "      print(e)\n",
        "      print(r_article)\n",
        "    time.sleep(2)"
      ],
      "execution_count": 36,
      "outputs": []
    },
    {
      "cell_type": "markdown",
      "metadata": {
        "id": "jDu9xLaBkAgz"
      },
      "source": [
        "#儲存收集回來的文章"
      ]
    },
    {
      "cell_type": "code",
      "metadata": {
        "id": "HqB0BHbmArrH",
        "colab": {
          "base_uri": "https://localhost:8080/"
        },
        "outputId": "94554ea0-899d-4bbb-ed89-2fae49d034c9"
      },
      "source": [
        "#剩餘未處理\n",
        "print(len(rr_list))\n",
        "#已經取得文章\n",
        "print(len(r_article_contents))"
      ],
      "execution_count": 37,
      "outputs": [
        {
          "output_type": "stream",
          "text": [
            "9\n",
            "151\n"
          ],
          "name": "stdout"
        }
      ]
    },
    {
      "cell_type": "code",
      "metadata": {
        "id": "CmVMmBQmkFHn",
        "colab": {
          "base_uri": "https://localhost:8080/"
        },
        "outputId": "5e54a6ee-40f9-4b29-a5f4-e96e321fd947"
      },
      "source": [
        "#剩餘未處理\n",
        "print(len(rr_list))\n",
        "#已經取得文章\n",
        "print(len(r_article_contents))\n",
        "#寫入JSON檔案\n",
        "with open('ptt_kerker_articles.json', 'w', encoding='utf-8') as f:\n",
        "    json.dump(r_article_contents, f, ensure_ascii=False, indent=4)\n",
        "#寫入JSON檔案\n",
        "with open('ptt_kerker.json', 'w', encoding='utf-8') as f:\n",
        "    json.dump(rr_list, f, ensure_ascii=False, indent=4)"
      ],
      "execution_count": 38,
      "outputs": [
        {
          "output_type": "stream",
          "text": [
            "9\n",
            "151\n"
          ],
          "name": "stdout"
        }
      ]
    },
    {
      "cell_type": "code",
      "metadata": {
        "id": "O7eOkbfw_20L",
        "colab": {
          "base_uri": "https://localhost:8080/"
        },
        "outputId": "708d3994-5cee-4015-ae1f-f676aa0e3c9e"
      },
      "source": [
        "rd_json_f=open('ptt_kerker_articles.json', \"r\")\n",
        "r_article_contents=json.loads(rd_json_f.read())\n",
        "r_article_contents_list=[]\n",
        "for r_article_content in r_article_contents:\n",
        "  r_article_content['id']=r_article_content['id']+70000\n",
        "  r_article_content['content']=r_article_content['content'].replace('\\n','').replace('\\t','').strip()\n",
        "  tidx=r_article_content['content'].find('新聞標題')\n",
        "  title=''\n",
        "  if  tidx>0:\n",
        "    title=r_article_content['content'][tidx:101]\n",
        "  else:\n",
        "    title=r_article_content['content'][0:101]\n",
        "  r_article_content['title']=title\n",
        "  r_article_contents_list.append(r_article_content)\n",
        "\n",
        "print(r_article_contents_list[-1])\n"
      ],
      "execution_count": 39,
      "outputs": [
        {
          "output_type": "stream",
          "text": [
            "{'id': 70151, 'content': '1.媒體來源:中央廣播電台2.記者署名:撰稿編輯：吳寧康3.完整新聞標題:EMA肯定安全有效 歐盟國家恢復接種AZ疫苗4.完整新聞內文:在歐盟藥品管理局(EMA)18日表示，阿斯特捷利康(AstraZeneca)的2019年冠狀病毒疾病(COVID-19)疫苗是「安全有效」，而且和更高的血栓風險無關後，歐洲主要國家說，他們將會恢復對這支AZ疫苗的接種。由於有AZ疫苗的接種者出現血管出血(bleeding)、血栓(blood clots)與低血小板數量(low platelet counts)等嚴重不良副作用，因此包括歐盟最大成員國的德國、法國和義大利在內，已有多國宣佈暫停接種AZ疫苗。而歐盟藥品管理局發表這項備受矚目的宣佈之際，正值世界衛生組織(WHO)和英國衛生監管當局都已表示，AZ疫苗是安全的，而且對幾個正面臨確診病例令人憂心升高的國家來說，不接種疫苗的風險反而更高。在經過旗下一個安全委員會的調查後，歐盟藥品管理局執行主任庫克(Emer Cooke)18日表示，委員會已取得一項明確的科學結論：這是一支安全且有效的疫苗，而且委員會還得到結論，這支疫苗和血栓栓塞事件或血栓的總體風險上升無關。然而，庫克也指出，他們無法「確切排除」血栓事件和疫苗之間的關聯。在歐盟藥品管理局發表聲明後，包括德國、法國、西班牙、義大利、荷蘭、葡萄牙、立陶宛、拉脫維亞、斯洛維尼亞和保加利亞也都表示，將很快恢復接種AZ疫苗。而在15日暫停使用AZ疫苗的法國指出，將從19日起恢復施打這支疫苗，法國總理卡斯特克斯(Jean Castex)將會是接種者之一。此外，法國18日也成為最新一個加強防疫限制的國家，宣佈對巴黎和其他幾個地區實施一個月的有限封城，試圖擊退已導致醫院不堪重負的第三波疫情感染。5.完整新聞連結 (或短網址):6.備註:歐洲好多國家要恢復AZ施打了不過一開始帶頭的北歐好像還在觀望?台灣也快要開始打了 你各位OK嗎--', 'title': '新聞標題:EMA肯定安全有效 歐盟國家恢復接種AZ疫苗4.完整新聞內文:在歐盟藥品管理局(EMA)18日表示，阿斯特捷利康(AstraZe'}\n"
          ],
          "name": "stdout"
        }
      ]
    },
    {
      "cell_type": "code",
      "metadata": {
        "id": "0vV_46hdApQx"
      },
      "source": [
        "with open('ptt_kerker_articles_final.json', 'w', encoding='utf-8') as f:\n",
        "    json.dump(r_article_contents_list, f, ensure_ascii=False, indent=4)"
      ],
      "execution_count": 40,
      "outputs": []
    },
    {
      "cell_type": "markdown",
      "metadata": {
        "id": "FbaBo0ZnXKJC"
      },
      "source": [
        "#CKIP"
      ]
    },
    {
      "cell_type": "code",
      "metadata": {
        "id": "6GpnN-YCXIEn",
        "colab": {
          "base_uri": "https://localhost:8080/"
        },
        "outputId": "09846e6d-79fc-4968-a98b-e3b5d5e4c63f"
      },
      "source": [
        "!pip install ckiptagger\n",
        "!pip install tensorflow\n",
        "!pip install gdown"
      ],
      "execution_count": 41,
      "outputs": [
        {
          "output_type": "stream",
          "text": [
            "Collecting ckiptagger\n",
            "  Downloading https://files.pythonhosted.org/packages/6b/bc/5cbf8d019167d5e5e1775069fb8b71a08691ab847e2926bbe7dee9a19010/ckiptagger-0.2.1-py3-none-any.whl\n",
            "Installing collected packages: ckiptagger\n",
            "Successfully installed ckiptagger-0.2.1\n",
            "Requirement already satisfied: tensorflow in /usr/local/lib/python3.7/dist-packages (2.4.1)\n",
            "Requirement already satisfied: astunparse~=1.6.3 in /usr/local/lib/python3.7/dist-packages (from tensorflow) (1.6.3)\n",
            "Requirement already satisfied: wrapt~=1.12.1 in /usr/local/lib/python3.7/dist-packages (from tensorflow) (1.12.1)\n",
            "Requirement already satisfied: numpy~=1.19.2 in /usr/local/lib/python3.7/dist-packages (from tensorflow) (1.19.5)\n",
            "Requirement already satisfied: grpcio~=1.32.0 in /usr/local/lib/python3.7/dist-packages (from tensorflow) (1.32.0)\n",
            "Requirement already satisfied: h5py~=2.10.0 in /usr/local/lib/python3.7/dist-packages (from tensorflow) (2.10.0)\n",
            "Requirement already satisfied: typing-extensions~=3.7.4 in /usr/local/lib/python3.7/dist-packages (from tensorflow) (3.7.4.3)\n",
            "Requirement already satisfied: six~=1.15.0 in /usr/local/lib/python3.7/dist-packages (from tensorflow) (1.15.0)\n",
            "Requirement already satisfied: keras-preprocessing~=1.1.2 in /usr/local/lib/python3.7/dist-packages (from tensorflow) (1.1.2)\n",
            "Requirement already satisfied: absl-py~=0.10 in /usr/local/lib/python3.7/dist-packages (from tensorflow) (0.10.0)\n",
            "Requirement already satisfied: termcolor~=1.1.0 in /usr/local/lib/python3.7/dist-packages (from tensorflow) (1.1.0)\n",
            "Requirement already satisfied: wheel~=0.35 in /usr/local/lib/python3.7/dist-packages (from tensorflow) (0.36.2)\n",
            "Requirement already satisfied: tensorboard~=2.4 in /usr/local/lib/python3.7/dist-packages (from tensorflow) (2.4.1)\n",
            "Requirement already satisfied: flatbuffers~=1.12.0 in /usr/local/lib/python3.7/dist-packages (from tensorflow) (1.12)\n",
            "Requirement already satisfied: opt-einsum~=3.3.0 in /usr/local/lib/python3.7/dist-packages (from tensorflow) (3.3.0)\n",
            "Requirement already satisfied: gast==0.3.3 in /usr/local/lib/python3.7/dist-packages (from tensorflow) (0.3.3)\n",
            "Requirement already satisfied: google-pasta~=0.2 in /usr/local/lib/python3.7/dist-packages (from tensorflow) (0.2.0)\n",
            "Requirement already satisfied: protobuf>=3.9.2 in /usr/local/lib/python3.7/dist-packages (from tensorflow) (3.12.4)\n",
            "Requirement already satisfied: tensorflow-estimator<2.5.0,>=2.4.0 in /usr/local/lib/python3.7/dist-packages (from tensorflow) (2.4.0)\n",
            "Requirement already satisfied: google-auth-oauthlib<0.5,>=0.4.1 in /usr/local/lib/python3.7/dist-packages (from tensorboard~=2.4->tensorflow) (0.4.3)\n",
            "Requirement already satisfied: requests<3,>=2.21.0 in /usr/local/lib/python3.7/dist-packages (from tensorboard~=2.4->tensorflow) (2.23.0)\n",
            "Requirement already satisfied: tensorboard-plugin-wit>=1.6.0 in /usr/local/lib/python3.7/dist-packages (from tensorboard~=2.4->tensorflow) (1.8.0)\n",
            "Requirement already satisfied: werkzeug>=0.11.15 in /usr/local/lib/python3.7/dist-packages (from tensorboard~=2.4->tensorflow) (1.0.1)\n",
            "Requirement already satisfied: google-auth<2,>=1.6.3 in /usr/local/lib/python3.7/dist-packages (from tensorboard~=2.4->tensorflow) (1.27.1)\n",
            "Requirement already satisfied: markdown>=2.6.8 in /usr/local/lib/python3.7/dist-packages (from tensorboard~=2.4->tensorflow) (3.3.4)\n",
            "Requirement already satisfied: setuptools>=41.0.0 in /usr/local/lib/python3.7/dist-packages (from tensorboard~=2.4->tensorflow) (54.1.2)\n",
            "Requirement already satisfied: requests-oauthlib>=0.7.0 in /usr/local/lib/python3.7/dist-packages (from google-auth-oauthlib<0.5,>=0.4.1->tensorboard~=2.4->tensorflow) (1.3.0)\n",
            "Requirement already satisfied: urllib3!=1.25.0,!=1.25.1,<1.26,>=1.21.1 in /usr/local/lib/python3.7/dist-packages (from requests<3,>=2.21.0->tensorboard~=2.4->tensorflow) (1.24.3)\n",
            "Requirement already satisfied: certifi>=2017.4.17 in /usr/local/lib/python3.7/dist-packages (from requests<3,>=2.21.0->tensorboard~=2.4->tensorflow) (2020.12.5)\n",
            "Requirement already satisfied: idna<3,>=2.5 in /usr/local/lib/python3.7/dist-packages (from requests<3,>=2.21.0->tensorboard~=2.4->tensorflow) (2.10)\n",
            "Requirement already satisfied: chardet<4,>=3.0.2 in /usr/local/lib/python3.7/dist-packages (from requests<3,>=2.21.0->tensorboard~=2.4->tensorflow) (3.0.4)\n",
            "Requirement already satisfied: rsa<5,>=3.1.4; python_version >= \"3.6\" in /usr/local/lib/python3.7/dist-packages (from google-auth<2,>=1.6.3->tensorboard~=2.4->tensorflow) (4.7.2)\n",
            "Requirement already satisfied: cachetools<5.0,>=2.0.0 in /usr/local/lib/python3.7/dist-packages (from google-auth<2,>=1.6.3->tensorboard~=2.4->tensorflow) (4.2.1)\n",
            "Requirement already satisfied: pyasn1-modules>=0.2.1 in /usr/local/lib/python3.7/dist-packages (from google-auth<2,>=1.6.3->tensorboard~=2.4->tensorflow) (0.2.8)\n",
            "Requirement already satisfied: importlib-metadata; python_version < \"3.8\" in /usr/local/lib/python3.7/dist-packages (from markdown>=2.6.8->tensorboard~=2.4->tensorflow) (3.7.2)\n",
            "Requirement already satisfied: oauthlib>=3.0.0 in /usr/local/lib/python3.7/dist-packages (from requests-oauthlib>=0.7.0->google-auth-oauthlib<0.5,>=0.4.1->tensorboard~=2.4->tensorflow) (3.1.0)\n",
            "Requirement already satisfied: pyasn1>=0.1.3 in /usr/local/lib/python3.7/dist-packages (from rsa<5,>=3.1.4; python_version >= \"3.6\"->google-auth<2,>=1.6.3->tensorboard~=2.4->tensorflow) (0.4.8)\n",
            "Requirement already satisfied: zipp>=0.5 in /usr/local/lib/python3.7/dist-packages (from importlib-metadata; python_version < \"3.8\"->markdown>=2.6.8->tensorboard~=2.4->tensorflow) (3.4.1)\n",
            "Requirement already satisfied: gdown in /usr/local/lib/python3.7/dist-packages (3.6.4)\n",
            "Requirement already satisfied: requests in /usr/local/lib/python3.7/dist-packages (from gdown) (2.23.0)\n",
            "Requirement already satisfied: tqdm in /usr/local/lib/python3.7/dist-packages (from gdown) (4.41.1)\n",
            "Requirement already satisfied: six in /usr/local/lib/python3.7/dist-packages (from gdown) (1.15.0)\n",
            "Requirement already satisfied: certifi>=2017.4.17 in /usr/local/lib/python3.7/dist-packages (from requests->gdown) (2020.12.5)\n",
            "Requirement already satisfied: chardet<4,>=3.0.2 in /usr/local/lib/python3.7/dist-packages (from requests->gdown) (3.0.4)\n",
            "Requirement already satisfied: urllib3!=1.25.0,!=1.25.1,<1.26,>=1.21.1 in /usr/local/lib/python3.7/dist-packages (from requests->gdown) (1.24.3)\n",
            "Requirement already satisfied: idna<3,>=2.5 in /usr/local/lib/python3.7/dist-packages (from requests->gdown) (2.10)\n"
          ],
          "name": "stdout"
        }
      ]
    },
    {
      "cell_type": "markdown",
      "metadata": {
        "id": "wb3GqBDlXVRb"
      },
      "source": [
        "#CKIP語料"
      ]
    },
    {
      "cell_type": "code",
      "metadata": {
        "id": "VKeLuHUkXUsg",
        "colab": {
          "base_uri": "https://localhost:8080/"
        },
        "outputId": "0052c00d-98ce-4fad-88a9-48a34ef713e5"
      },
      "source": [
        "# -*- coding: utf-8 -*-\n",
        "from ckiptagger import data_utils\n",
        "data_utils.download_data_gdown(\"./\")"
      ],
      "execution_count": 46,
      "outputs": [
        {
          "output_type": "stream",
          "text": [
            "Downloading...\n",
            "From: https://drive.google.com/uc?id=1efHsY16pxK0lBD2gYCgCTnv1Swstq771\n",
            "To: /content/drive/My Drive/Colab Notebooks/pttroach/data.zip\n",
            "1.88GB [00:39, 47.2MB/s]\n"
          ],
          "name": "stderr"
        }
      ]
    },
    {
      "cell_type": "code",
      "metadata": {
        "id": "ds6jw3hoZ2s8",
        "colab": {
          "base_uri": "https://localhost:8080/"
        },
        "outputId": "c4993870-5c6d-4a8b-f829-089840f1fd62"
      },
      "source": [
        "!ls"
      ],
      "execution_count": 47,
      "outputs": [
        {
          "output_type": "stream",
          "text": [
            "data\t  ptt_kerker_articles_final.json  ptt_kerker.json\n",
            "data.zip  ptt_kerker_articles.json\t  ptt_roach.json\n"
          ],
          "name": "stdout"
        }
      ]
    },
    {
      "cell_type": "code",
      "metadata": {
        "id": "9ZTc-HgZqQDI",
        "colab": {
          "base_uri": "https://localhost:8080/"
        },
        "outputId": "447bc596-dea9-49db-ab08-bafe0292db90"
      },
      "source": [
        "# -*- coding: utf-8 -*-\n",
        "from ckiptagger import WS, POS, NER\n",
        "\n",
        "rd_json_f=open('ptt_kerker_articles_final.json', \"r\")\n",
        "r_article_contents_list=json.loads(rd_json_f.read())\n",
        "\n",
        "r_article_contents_last=r_article_contents_list[-1]\n",
        "\n",
        "text = r_article_contents_last['content']\n",
        "ws = WS(\"./data\")\n",
        "pos = POS(\"./data\")\n",
        "ner = NER(\"./data\")\n",
        "\n",
        "ws_results = ws([text])\n",
        "pos_results = pos(ws_results)\n",
        "ner_results = ner(ws_results, pos_results)\n",
        "\n",
        "print(ws_results)\n",
        "print(pos_results)\n",
        "for name in ner_results[0]:\n",
        "    print(name)"
      ],
      "execution_count": 48,
      "outputs": [
        {
          "output_type": "stream",
          "text": [
            "/usr/local/lib/python3.7/dist-packages/tensorflow/python/keras/layers/legacy_rnn/rnn_cell_impl.py:903: UserWarning: `tf.nn.rnn_cell.LSTMCell` is deprecated and will be removed in a future version. This class is equivalent as `tf.keras.layers.LSTMCell`, and will be replaced by that in Tensorflow 2.0.\n",
            "  warnings.warn(\"`tf.nn.rnn_cell.LSTMCell` is deprecated and will be \"\n",
            "/usr/local/lib/python3.7/dist-packages/tensorflow/python/keras/engine/base_layer_v1.py:1727: UserWarning: `layer.add_variable` is deprecated and will be removed in a future version. Please use `layer.add_weight` method instead.\n",
            "  warnings.warn('`layer.add_variable` is deprecated and '\n"
          ],
          "name": "stderr"
        },
        {
          "output_type": "stream",
          "text": [
            "[['1.', '媒體', '來源', ':', '中央', '廣播', '電台', '2.', '記者', '署名', ':', '撰稿', '編輯', '：', '吳寧康', '3', '.', '完整', '新聞', '標題', ':', 'EMA', '肯定', '安全', '有效', ' ', '歐盟', '國家', '恢復', '接種', 'AZ', '疫苗', '4', '.', '完整', '新聞', '內文', ':', '在', '歐盟', '藥品', '管理局', '(', 'EMA', ')', '18日', '表示', '，', '阿斯特捷利康', '(', 'Astra', 'Zeneca', ')', '的', '2019年', '冠狀病毒', '疾病', '(', 'COVID-', '19', ')', '疫苗', '是', '「', '安全', '有效', '」', '，', '而且', '和', '更', '高', '的', '血栓', '風險', '無關', '後', '，', '歐洲', '主要', '國家', '說', '，', '他們', '將', '會', '恢復', '對', '這', '支', 'AZ', '疫苗', '的', '接種', '。', '由於', '有', 'AZ', '疫苗', '的', '接種', '者', '出現', '血管', '出血', '(', 'bleeding', ')', '、', '血栓', '(', 'blood clots', ')', '與', '低血', '小板', '數量', '(', 'low platelet counts', ')', '等', '嚴重', '不良', '副作用', '，', '因此', '包括', '歐盟', '最', '大', '成員國', '的', '德國', '、', '法國', '和', '義大利', '在', '內', '，', '已', '有', '多', '國', '宣佈', '暫停', '接種', 'AZ', '疫苗', '。', '而', '歐盟', '藥品', '管理局', '發表', '這', '項', '備受', '矚目', '的', '宣佈', '之', '際', '，', '正', '值', '世界', '衛生', '組織', '(', 'WHO', ')', '和', '英國', '衛生', '監管', '當局', '都', '已', '表示', '，', 'AZ', '疫苗', '是', '安全', '的', '，', '而且', '對', '幾', '個', '正', '面臨', '確診', '病例', '令', '人', '憂心', '升高', '的', '國家', '來', '說', '，', '不', '接種', '疫苗', '的', '風險', '反而', '更', '高', '。', '在', '經過', '旗下', '一', '個', '安全', '委員會', '的', '調查', '後', '，', '歐盟', '藥品', '管理局', '執行', '主任', '庫克', '(', 'Emer ', 'Cooke', ')', '18日', '表示', '，', '委員會', '已', '取得', '一', '項', '明確', '的', '科學', '結論', '：', '這', '是', '一', '支', '安全', '且', '有效', '的', '疫苗', '，', '而且', '委員會', '還', '得到', '結論', '，', '這', '支', '疫苗', '和', '血栓', '栓塞', '事件', '或', '血栓', '的', '總體', '風險', '上升', '無關', '。', '然而', '，', '庫克', '也', '指出', '，', '他們', '無法', '「', '確切', '排除', '」', '血栓', '事件', '和', '疫苗', '之間', '的', '關聯', '。', '在', '歐盟', '藥品', '管理局', '發表', '聲明', '後', '，', '包括', '德國', '、', '法國', '、', '西班牙', '、', '義大利', '、', '荷蘭', '、', '葡萄牙', '、', '立陶宛', '、', '拉脫維亞', '、', '斯洛維尼亞', '和', '保加利亞', '也', '都', '表示', '，', '將', '很', '快', '恢復', '接種', 'AZ', '疫苗', '。', '而', '在', '15日', '暫停', '使用', 'AZ', '疫苗', '的', '法國', '指出', '，', '將', '從', '19日', '起', '恢復', '施打', '這', '支', '疫苗', '，', '法國', '總理', '卡斯特克斯', '(', 'Jean ', 'Castex', ')', '將', '會', '是', '接種', '者', '之', '一', '。', '此外', '，', '法國', '18日', '也', '成為', '最', '新', '一', '個', '加強', '防疫', '限制', '的', '國家', '，', '宣佈', '對', '巴黎', '和', '其他', '幾', '個', '地區', '實施', '一', '個', '月', '的', '有限', '封', '城', '，', '試圖', '擊退', '已', '導致', '醫院', '不堪', '重負', '的', '第三', '波', '疫情', '感染', '。', '5', '.', '完整', '新聞', '連結', ' ', '(', '或', '短', '網址', ')', ':6', '.', '備註', ':', '歐洲', '好多', '國家', '要', '恢復', 'AZ', '施打', '了', '不過', '一', '開始', '帶頭', '的', '北歐', '好像', '還', '在', '觀望', '?', '台灣', '也', '快要', '開始', '打', '了', ' ', '你', '各', '位', 'OK', '嗎', '--']]\n",
            "[['Cbb', 'Na', 'Na', 'COLONCATEGORY', 'Nc', 'Nv', 'Nc', 'Cbb', 'Na', 'VC', 'COLONCATEGORY', 'VA', 'Na', 'COLONCATEGORY', 'Nb', 'Neu', 'PERIODCATEGORY', 'VH', 'Na', 'Na', 'COLONCATEGORY', 'FW', 'VK', 'VH', 'VH', 'WHITESPACE', 'Nb', 'Na', 'VHC', 'VC', 'FW', 'Na', 'Neu', 'PERIODCATEGORY', 'VH', 'Na', 'Na', 'COLONCATEGORY', 'P', 'Nb', 'Na', 'Nc', 'PARENTHESISCATEGORY', 'FW', 'PARENTHESISCATEGORY', 'Nd', 'VE', 'COMMACATEGORY', 'Nb', 'PARENTHESISCATEGORY', 'FW', 'FW', 'PARENTHESISCATEGORY', 'DE', 'Nd', 'Na', 'Na', 'PARENTHESISCATEGORY', 'FW', 'Neu', 'PARENTHESISCATEGORY', 'Na', 'SHI', 'PARENTHESISCATEGORY', 'VH', 'VH', 'PARENTHESISCATEGORY', 'COMMACATEGORY', 'Cbb', 'P', 'Dfa', 'VH', 'DE', 'Na', 'Na', 'VH', 'Ng', 'COMMACATEGORY', 'Nc', 'A', 'Na', 'VE', 'COMMACATEGORY', 'Nh', 'D', 'D', 'VHC', 'P', 'Nep', 'Nf', 'FW', 'Na', 'DE', 'VC', 'PERIODCATEGORY', 'Cbb', 'V_2', 'FW', 'Na', 'DE', 'VC', 'Na', 'VH', 'Na', 'VH', 'PARENTHESISCATEGORY', 'FW', 'PARENTHESISCATEGORY', 'PAUSECATEGORY', 'Na', 'PARENTHESISCATEGORY', 'FW', 'PARENTHESISCATEGORY', 'Caa', 'Na', 'Na', 'Na', 'PARENTHESISCATEGORY', 'FW', 'PARENTHESISCATEGORY', 'Cab', 'VH', 'VH', 'Na', 'COMMACATEGORY', 'Cbb', 'VK', 'Nb', 'Dfa', 'VH', 'Na', 'DE', 'Nc', 'PAUSECATEGORY', 'Nc', 'Caa', 'Nc', 'P', 'Ncd', 'COMMACATEGORY', 'D', 'V_2', 'Neqa', 'Nc', 'VE', 'VHC', 'VC', 'FW', 'Na', 'PERIODCATEGORY', 'Cbb', 'Nb', 'Na', 'Nc', 'VC', 'Nep', 'Nf', 'P', 'VB', 'DE', 'VE', 'DE', 'Nd', 'COMMACATEGORY', 'D', 'P', 'Nc', 'Na', 'Na', 'PARENTHESISCATEGORY', 'FW', 'PARENTHESISCATEGORY', 'P', 'Nc', 'Na', 'VC', 'Na', 'D', 'D', 'VE', 'COMMACATEGORY', 'FW', 'Na', 'SHI', 'VH', 'T', 'COMMACATEGORY', 'Cbb', 'P', 'Neu', 'Nf', 'D', 'VK', 'Nv', 'Na', 'VL', 'Na', 'VH', 'VHC', 'DE', 'Na', 'D', 'VE', 'COMMACATEGORY', 'D', 'VC', 'Na', 'DE', 'Na', 'Cbb', 'Dfa', 'VH', 'PERIODCATEGORY', 'P', 'VCL', 'Nc', 'Neu', 'Nf', 'VH', 'Nc', 'DE', 'Na', 'Ng', 'COMMACATEGORY', 'Nb', 'Na', 'Nc', 'Nv', 'Na', 'Nb', 'PARENTHESISCATEGORY', 'FW', 'FW', 'PARENTHESISCATEGORY', 'Nd', 'VE', 'COMMACATEGORY', 'Nc', 'D', 'VC', 'Neu', 'Nf', 'VH', 'DE', 'Na', 'Na', 'COLONCATEGORY', 'Nep', 'SHI', 'Neu', 'Nf', 'VH', 'Caa', 'VH', 'DE', 'Na', 'COMMACATEGORY', 'Cbb', 'Nc', 'D', 'VJ', 'Na', 'COMMACATEGORY', 'Nep', 'Nf', 'Na', 'Caa', 'Na', 'Na', 'Na', 'Caa', 'Na', 'DE', 'Na', 'Na', 'VA', 'VH', 'PERIODCATEGORY', 'Cbb', 'COMMACATEGORY', 'Nb', 'D', 'VE', 'COMMACATEGORY', 'Nh', 'D', 'PARENTHESISCATEGORY', 'VH', 'VC', 'PARENTHESISCATEGORY', 'Na', 'Na', 'Caa', 'Na', 'Ng', 'DE', 'VI', 'PERIODCATEGORY', 'P', 'Nb', 'Na', 'Nc', 'VC', 'Na', 'Ng', 'COMMACATEGORY', 'VK', 'Nc', 'PAUSECATEGORY', 'Nc', 'PAUSECATEGORY', 'Nc', 'PAUSECATEGORY', 'Nc', 'PAUSECATEGORY', 'Nc', 'PAUSECATEGORY', 'Nc', 'PAUSECATEGORY', 'Nc', 'PAUSECATEGORY', 'Nc', 'PAUSECATEGORY', 'Nc', 'Caa', 'Nc', 'D', 'D', 'VE', 'COMMACATEGORY', 'D', 'Dfa', 'VH', 'VHC', 'VC', 'FW', 'Na', 'PERIODCATEGORY', 'Cbb', 'P', 'Nd', 'VHC', 'VC', 'FW', 'Na', 'DE', 'Nc', 'VE', 'COMMACATEGORY', 'D', 'P', 'Nd', 'Ng', 'VHC', 'VC', 'Nep', 'Nf', 'Na', 'COMMACATEGORY', 'Nc', 'Na', 'Nb', 'PARENTHESISCATEGORY', 'FW', 'FW', 'PARENTHESISCATEGORY', 'D', 'D', 'SHI', 'VC', 'Na', 'DE', 'Neu', 'PERIODCATEGORY', 'Cbb', 'COMMACATEGORY', 'Nc', 'Nd', 'D', 'VG', 'Dfa', 'VH', 'Neu', 'Nf', 'VC', 'VA', 'Na', 'DE', 'Na', 'COMMACATEGORY', 'VE', 'P', 'Nc', 'Caa', 'Neqa', 'Neu', 'Nf', 'Nc', 'VC', 'Neu', 'Nf', 'Na', 'DE', 'VH', 'VC', 'Na', 'COMMACATEGORY', 'VF', 'VC', 'D', 'VL', 'Nc', 'VK', 'VH', 'DE', 'Neu', 'Nf', 'Na', 'VJ', 'PERIODCATEGORY', 'Neu', 'PERIODCATEGORY', 'VH', 'Na', 'VC', 'WHITESPACE', 'PARENTHESISCATEGORY', 'Caa', 'VH', 'Na', 'PARENTHESISCATEGORY', 'Neu', 'PERIODCATEGORY', 'VE', 'COLONCATEGORY', 'Nc', 'Neqa', 'Na', 'D', 'VHC', 'FW', 'VC', 'Di', 'Da', 'D', 'VH', 'VA', 'DE', 'Nc', 'D', 'D', 'D', 'VA', 'QUESTIONCATEGORY', 'Nc', 'D', 'D', 'VL', 'VC', 'Di', 'WHITESPACE', 'Nh', 'Nes', 'Nf', 'VH', 'T', 'DASHCATEGORY']]\n",
            "(581, 586, 'GPE', '斯洛維尼亞')\n",
            "(646, 651, 'PERSON', '卡斯特克斯')\n",
            "(735, 737, 'ORDINAL', '第三')\n",
            "(422, 433, 'PERSON', 'Emer Cooke)')\n",
            "(565, 567, 'GPE', '荷蘭')\n",
            "(642, 644, 'GPE', '法國')\n",
            "(269, 271, 'GPE', '德國')\n",
            "(297, 304, 'ORG', '歐盟藥品管理局')\n",
            "(610, 613, 'DATE', '15日')\n",
            "(576, 580, 'GPE', '拉脫維亞')\n",
            "(568, 571, 'GPE', '葡萄牙')\n",
            "(332, 338, 'ORG', '英國衛生監管')\n",
            "(587, 591, 'GPE', '保加利亞')\n",
            "(320, 326, 'ORG', '世界衛生組織')\n",
            "(629, 632, 'DATE', '19日')\n",
            "(617, 619, 'ORG', 'AZ')\n",
            "(712, 715, 'DATE', '一個月')\n",
            "(764, 766, 'LOC', '歐洲')\n",
            "(47, 49, 'ORG', '歐盟')\n",
            "(152, 154, 'LOC', '歐洲')\n",
            "(561, 564, 'GPE', '義大利')\n",
            "(701, 703, 'GPE', '巴黎')\n",
            "(125, 127, 'CARDINAL', '19')\n",
            "(433, 436, 'DATE', '18日')\n",
            "(327, 330, 'ORG', 'WHO')\n",
            "(652, 663, 'PERSON', 'Jean Castex')\n",
            "(275, 278, 'GPE', '義大利')\n",
            "(419, 421, 'PERSON', '庫克')\n",
            "(795, 797, 'GPE', '台灣')\n",
            "(272, 274, 'GPE', '法國')\n",
            "(678, 681, 'DATE', '18日')\n",
            "(7, 13, 'ORG', '中央廣播電台')\n",
            "(25, 28, 'PERSON', '吳寧康')\n",
            "(551, 553, 'GPE', '德國')\n",
            "(622, 624, 'GPE', '法國')\n",
            "(676, 678, 'GPE', '法國')\n",
            "(261, 263, 'ORG', '歐盟')\n",
            "(408, 415, 'ORG', '歐盟藥品管理局')\n",
            "(536, 543, 'ORG', '歐盟藥品管理局')\n",
            "(554, 556, 'GPE', '法國')\n",
            "(786, 788, 'LOC', '北歐')\n",
            "(557, 560, 'GPE', '西班牙')\n",
            "(94, 105, 'ORG', 'AstraZeneca')\n",
            "(457, 458, 'CARDINAL', '一')\n",
            "(69, 76, 'ORG', '歐盟藥品管理局')\n",
            "(773, 775, 'ORG', 'AZ')\n",
            "(87, 93, 'ORG', '阿斯特捷利康')\n",
            "(13, 14, 'CARDINAL', '2')\n",
            "(759, 760, 'CARDINAL', '6')\n",
            "(572, 575, 'GPE', '立陶宛')\n",
            "(77, 80, 'ORG', 'EMA')\n",
            "(506, 508, 'PERSON', '庫克')\n",
            "(107, 112, 'DATE', '2019年')\n",
            "(81, 84, 'DATE', '18日')\n"
          ],
          "name": "stdout"
        }
      ]
    }
  ]
}