{
  "nbformat": 4,
  "nbformat_minor": 0,
  "metadata": {
    "colab": {
      "name": "PTT爬蟲程式.ipynb",
      "provenance": [],
      "collapsed_sections": [],
      "toc_visible": true,
      "include_colab_link": true
    },
    "kernelspec": {
      "display_name": "Python 3",
      "name": "python3"
    }
  },
  "cells": [
    {
      "cell_type": "markdown",
      "metadata": {
        "id": "view-in-github",
        "colab_type": "text"
      },
      "source": [
        "<a href=\"https://colab.research.google.com/github/liuchiente/data_science/blob/main/PTT%E7%88%AC%E8%9F%B2%E7%A8%8B%E5%BC%8F.ipynb\" target=\"_parent\"><img src=\"https://colab.research.google.com/assets/colab-badge.svg\" alt=\"Open In Colab\"/></a>"
      ]
    },
    {
      "cell_type": "markdown",
      "metadata": {
        "id": "4m0c0i2I9plu"
      },
      "source": [
        "# PTT爬蟲程式\n",
        "\n",
        "---\n",
        "本程式主要用簡單的Python開發出爬蟲工具,會依照指定的條件,到某個PTT版上抓取新聞文章回來,再用CKIP解析文章內容,分析出文章裡面的人名、地名等資訊。\n",
        "\n",
        "p.s.　道德勸說一下，雖然程式是死的，但請記得透過程式去抓資料的時間相當短，量也不小，要記得控制好抓的文章數和抓取時間，避免對網站造成龐大負擔。\n",
        "\n",
        "by PTT的老鄉民 :(\n"
      ]
    },
    {
      "cell_type": "markdown",
      "metadata": {
        "id": "f5WuWlah9uax"
      },
      "source": [
        ""
      ]
    },
    {
      "cell_type": "markdown",
      "metadata": {
        "id": "vuqQYFz1zioD"
      },
      "source": [
        "#切換路徑到指定資料夾\n"
      ]
    },
    {
      "cell_type": "code",
      "metadata": {
        "id": "BZgraha6zURU",
        "colab": {
          "base_uri": "https://localhost:8080/"
        },
        "outputId": "be8b32de-98a2-4a7c-badb-95746e5e00c7"
      },
      "source": [
        "sys_dir = \"/content/drive/My Drive/Colab Notebooks/pttroach/\"\n",
        "#連接並mount自己的雲端硬碟(點選跑出網址複製最後的授權碼貼上並執行)\n",
        "from google.colab import drive\n",
        "drive.mount('/content/drive', force_remount=True)"
      ],
      "execution_count": null,
      "outputs": [
        {
          "output_type": "stream",
          "text": [
            "Mounted at /content/drive\n"
          ],
          "name": "stdout"
        }
      ]
    },
    {
      "cell_type": "code",
      "metadata": {
        "id": "7zz5tXaQvFpk"
      },
      "source": [
        "#切換執行目錄\n",
        "import os\n",
        "if not os.path.isdir(sys_dir):\n",
        "    os.mkdir(sys_dir)\n",
        "os.chdir(sys_dir)"
      ],
      "execution_count": null,
      "outputs": []
    },
    {
      "cell_type": "markdown",
      "metadata": {
        "id": "IPZ_6iBZzwmz"
      },
      "source": [
        "#引入套件"
      ]
    },
    {
      "cell_type": "code",
      "metadata": {
        "id": "wJ2hnQAr0Cg8",
        "colab": {
          "base_uri": "https://localhost:8080/"
        },
        "outputId": "4c624aa5-7895-4f8f-9f7b-a240d4312b07"
      },
      "source": [
        "! pip install fake_useragent"
      ],
      "execution_count": null,
      "outputs": [
        {
          "output_type": "stream",
          "text": [
            "Collecting fake_useragent\n",
            "  Downloading https://files.pythonhosted.org/packages/d1/79/af647635d6968e2deb57a208d309f6069d31cb138066d7e821e575112a80/fake-useragent-0.1.11.tar.gz\n",
            "Building wheels for collected packages: fake-useragent\n",
            "  Building wheel for fake-useragent (setup.py) ... \u001b[?25l\u001b[?25hdone\n",
            "  Created wheel for fake-useragent: filename=fake_useragent-0.1.11-cp37-none-any.whl size=13485 sha256=dffe9bb5c2fc0e6e31ba227079cd08e37e08ccda70413b62693fa5e1284f49c5\n",
            "  Stored in directory: /root/.cache/pip/wheels/5e/63/09/d1dc15179f175357d3f5c00cbffbac37f9e8690d80545143ff\n",
            "Successfully built fake-useragent\n",
            "Installing collected packages: fake-useragent\n",
            "Successfully installed fake-useragent-0.1.11\n"
          ],
          "name": "stdout"
        }
      ]
    },
    {
      "cell_type": "code",
      "metadata": {
        "id": "wVnvTvfazyLD"
      },
      "source": [
        "#引入套件\n",
        "import requests\n",
        "import re\n",
        "import time\n",
        "import json\n",
        "from bs4 import BeautifulSoup\n",
        "from fake_useragent import UserAgent\n",
        "import datetime"
      ],
      "execution_count": null,
      "outputs": []
    },
    {
      "cell_type": "markdown",
      "metadata": {
        "id": "0-jDbsIa0KIF"
      },
      "source": [
        "#定義基本函式庫"
      ]
    },
    {
      "cell_type": "code",
      "metadata": {
        "id": "WYDWkJ_d0N34"
      },
      "source": [
        "#隨機產生User angent,模擬瀏覽器行為,避免被阻擋\n",
        "def set_header_user_agent():\n",
        "    user_agent = UserAgent()\n",
        "    return user_agent.random\n",
        "\n",
        "#檢查是不是合法的網址\n",
        "def check_url(url):\n",
        "    regex = re.compile(\n",
        "        r'^(?:http|ftp)s?://' # http:// or https://\n",
        "        r'(?:(?:[A-Z0-9](?:[A-Z0-9-]{0,61}[A-Z0-9])?\\.)+(?:[A-Z]{2,6}\\.?|[A-Z0-9-]{2,}\\.?)|'\n",
        "        r'localhost|' #localhost...\n",
        "        r'\\d{1,3}\\.\\d{1,3}\\.\\d{1,3}\\.\\d{1,3})' # ...or ip\n",
        "        r'(?::\\d+)?' # optional port\n",
        "        r'(?:/?|[/?]\\S+)$', re.IGNORECASE)\n",
        "    return re.match(regex, url)\n",
        "\n",
        "#查詢資料\n",
        "def req_url(link,param):\n",
        "    user_agent = set_header_user_agent()\n",
        "    req=requests.get(link,headers={'user-agent': user_agent,'cookie': 'over18=1'},params=param)\n",
        "    #debug 網址\n",
        "    #print(req.url)\n",
        "    rslt=BeautifulSoup(req.text,'lxml')\n",
        "    return rslt"
      ],
      "execution_count": null,
      "outputs": []
    },
    {
      "cell_type": "markdown",
      "metadata": {
        "id": "aKKZid8zeZvb"
      },
      "source": [
        "#設定查詢條件"
      ]
    },
    {
      "cell_type": "code",
      "metadata": {
        "id": "JuF6v_TxeYn7"
      },
      "source": [
        "#基本變數\n",
        "q=\"%5B新聞%5D\"\n",
        "#是否停止\n",
        "to_be_contiunted=True\n",
        "#頁數\n",
        "page=0\n",
        "#查詢結果\n",
        "r_list=[]\n",
        "#現在時間\n",
        "today = datetime.date.today()\n",
        "#開始抓文章時間,預設從上個月1號開始\n",
        "#first_day = today.replace(day=1,month=today.month-1)\n",
        "first_day = today - datetime.timedelta(days=1)\n",
        "#預設為空\n",
        "r_articles=[]\n",
        "if os.path.isfile('ptt_roach.json'):\n",
        "  r_json_f=open('ptt_roach.json', \"r\")\n",
        "  r_articles=json.loads(r_json_f.read())\n",
        "#最後一篇文章日期\n",
        "#if len(r_articles)>0:\n",
        "  #articles_last=r_articles[-1]\n",
        "  #print(articles_last)\n",
        "  #first_day=datetime.datetime.strptime(articles_last['d'], \"%Y/%m/%d\")\n",
        "#結束時間,預設抓一天\n",
        "#last_day = first_day + datetime.timedelta(days=1)\n",
        "r_articles.clear()\n",
        "#last_day = today - datetime.timedelta(days=1)\n",
        "last_day = today"
      ],
      "execution_count": null,
      "outputs": []
    },
    {
      "cell_type": "markdown",
      "metadata": {
        "id": "KB7etz-80aV0"
      },
      "source": [
        "#查詢看板列表"
      ]
    },
    {
      "cell_type": "code",
      "metadata": {
        "id": "Y6MSAlK50crH",
        "colab": {
          "base_uri": "https://localhost:8080/"
        },
        "outputId": "e6b435ce-44ac-4773-f218-9f92e290ddb6"
      },
      "source": [
        "to_be_contiunted=True\n",
        "page=0\n",
        "#只抓出特定日期區間範圍的文章\n",
        "while to_be_contiunted:\n",
        "    page=page+1\n",
        "    rq=req_url('https://www.ptt.cc/bbs/Gossiping/search',{'q':'[新聞]','page':page})\n",
        "    req_articles=rq.findAll('div',attrs = {'class' : 'r-ent'})\n",
        "    for req_article in req_articles:\n",
        "        req_date_s=req_article.find('div',attrs = {'class' : 'date'}).text.strip().zfill(5)\n",
        "        #轉出時間\n",
        "        req_date=datetime.datetime.strptime(str(today.year)+\"/\"+req_date_s, \"%Y/%m/%d\")\n",
        "        if req_date.date() >= first_day and req_date.date() < last_day:\n",
        "          r_link=req_article.find('a').get(\"href\")\n",
        "          if req_article.find('a').text.startswith('[新聞]') and not (r_link in r_list):\n",
        "            #print(req_date_s+\" \"+req_article.find('a').text)\n",
        "            r_art=dict()\n",
        "            r_art['l']=r_link\n",
        "            r_art['d']=datetime.datetime.strftime(req_date,\"%Y/%m/%d\")\n",
        "            r_list.append(r_link)\n",
        "        elif req_date.date() < first_day:\n",
        "          to_be_contiunted=False\n",
        "          break\n",
        "    time.sleep(1)\n",
        "print(r_list)"
      ],
      "execution_count": null,
      "outputs": [
        {
          "output_type": "stream",
          "text": [
            "['/bbs/Gossiping/M.1616169418.A.843.html', '/bbs/Gossiping/M.1616169098.A.1B1.html', '/bbs/Gossiping/M.1616167476.A.CE4.html', '/bbs/Gossiping/M.1616167288.A.7BB.html', '/bbs/Gossiping/M.1616166721.A.98A.html', '/bbs/Gossiping/M.1616166455.A.EAF.html', '/bbs/Gossiping/M.1616166185.A.31E.html', '/bbs/Gossiping/M.1616165189.A.51B.html', '/bbs/Gossiping/M.1616164941.A.637.html', '/bbs/Gossiping/M.1616164389.A.407.html', '/bbs/Gossiping/M.1616164085.A.195.html', '/bbs/Gossiping/M.1616164024.A.FA6.html', '/bbs/Gossiping/M.1616163950.A.F89.html', '/bbs/Gossiping/M.1616163518.A.EEA.html', '/bbs/Gossiping/M.1616163485.A.062.html', '/bbs/Gossiping/M.1616162361.A.AAD.html', '/bbs/Gossiping/M.1616162268.A.2AD.html', '/bbs/Gossiping/M.1616162248.A.99A.html', '/bbs/Gossiping/M.1616162098.A.337.html', '/bbs/Gossiping/M.1616161966.A.366.html', '/bbs/Gossiping/M.1616161441.A.FED.html', '/bbs/Gossiping/M.1616161261.A.7EF.html', '/bbs/Gossiping/M.1616161251.A.964.html', '/bbs/Gossiping/M.1616160914.A.6E4.html', '/bbs/Gossiping/M.1616160182.A.331.html', '/bbs/Gossiping/M.1616158080.A.AC4.html', '/bbs/Gossiping/M.1616158042.A.3D2.html', '/bbs/Gossiping/M.1616156644.A.8B0.html', '/bbs/Gossiping/M.1616156382.A.4B5.html', '/bbs/Gossiping/M.1616156265.A.15A.html', '/bbs/Gossiping/M.1616156241.A.3BD.html', '/bbs/Gossiping/M.1616155748.A.298.html', '/bbs/Gossiping/M.1616154406.A.690.html', '/bbs/Gossiping/M.1616154349.A.DE5.html', '/bbs/Gossiping/M.1616154294.A.CBF.html', '/bbs/Gossiping/M.1616153940.A.BA7.html', '/bbs/Gossiping/M.1616153603.A.896.html', '/bbs/Gossiping/M.1616153406.A.F6C.html', '/bbs/Gossiping/M.1616153298.A.2B8.html', '/bbs/Gossiping/M.1616153161.A.B8E.html', '/bbs/Gossiping/M.1616153063.A.F44.html', '/bbs/Gossiping/M.1616152519.A.8EC.html', '/bbs/Gossiping/M.1616152370.A.A0F.html', '/bbs/Gossiping/M.1616152362.A.FD3.html', '/bbs/Gossiping/M.1616152312.A.B9A.html', '/bbs/Gossiping/M.1616152172.A.C6C.html', '/bbs/Gossiping/M.1616152151.A.578.html', '/bbs/Gossiping/M.1616151140.A.51E.html', '/bbs/Gossiping/M.1616151051.A.344.html', '/bbs/Gossiping/M.1616150082.A.D30.html', '/bbs/Gossiping/M.1616150062.A.C9E.html', '/bbs/Gossiping/M.1616150006.A.850.html', '/bbs/Gossiping/M.1616149979.A.B5E.html', '/bbs/Gossiping/M.1616149133.A.751.html', '/bbs/Gossiping/M.1616148956.A.A16.html', '/bbs/Gossiping/M.1616148313.A.9C1.html', '/bbs/Gossiping/M.1616147880.A.ADC.html', '/bbs/Gossiping/M.1616147519.A.FD4.html', '/bbs/Gossiping/M.1616147072.A.EED.html', '/bbs/Gossiping/M.1616146192.A.984.html', '/bbs/Gossiping/M.1616146087.A.FBE.html', '/bbs/Gossiping/M.1616145528.A.755.html', '/bbs/Gossiping/M.1616145412.A.B19.html', '/bbs/Gossiping/M.1616145148.A.342.html', '/bbs/Gossiping/M.1616144270.A.893.html', '/bbs/Gossiping/M.1616144152.A.CAC.html', '/bbs/Gossiping/M.1616143713.A.648.html', '/bbs/Gossiping/M.1616143680.A.F15.html', '/bbs/Gossiping/M.1616143239.A.31B.html', '/bbs/Gossiping/M.1616142987.A.066.html', '/bbs/Gossiping/M.1616142758.A.E69.html', '/bbs/Gossiping/M.1616142251.A.972.html', '/bbs/Gossiping/M.1616142058.A.A9D.html', '/bbs/Gossiping/M.1616141505.A.2DF.html', '/bbs/Gossiping/M.1616141492.A.DD7.html', '/bbs/Gossiping/M.1616141357.A.348.html', '/bbs/Gossiping/M.1616140802.A.E2F.html', '/bbs/Gossiping/M.1616140447.A.C85.html', '/bbs/Gossiping/M.1616139179.A.82D.html', '/bbs/Gossiping/M.1616138650.A.F25.html', '/bbs/Gossiping/M.1616136852.A.BF9.html', '/bbs/Gossiping/M.1616136546.A.A8A.html', '/bbs/Gossiping/M.1616136368.A.521.html', '/bbs/Gossiping/M.1616135973.A.291.html', '/bbs/Gossiping/M.1616135892.A.587.html', '/bbs/Gossiping/M.1616134986.A.258.html', '/bbs/Gossiping/M.1616134702.A.2DC.html', '/bbs/Gossiping/M.1616134679.A.917.html', '/bbs/Gossiping/M.1616133961.A.032.html', '/bbs/Gossiping/M.1616133184.A.13E.html', '/bbs/Gossiping/M.1616132925.A.582.html', '/bbs/Gossiping/M.1616132622.A.EF6.html', '/bbs/Gossiping/M.1616132489.A.E03.html', '/bbs/Gossiping/M.1616131265.A.9DC.html', '/bbs/Gossiping/M.1616131118.A.AD0.html', '/bbs/Gossiping/M.1616130281.A.29B.html', '/bbs/Gossiping/M.1616130272.A.31A.html', '/bbs/Gossiping/M.1616129880.A.55F.html', '/bbs/Gossiping/M.1616129437.A.B58.html', '/bbs/Gossiping/M.1616129013.A.090.html', '/bbs/Gossiping/M.1616128844.A.6FE.html', '/bbs/Gossiping/M.1616128760.A.46A.html', '/bbs/Gossiping/M.1616128726.A.246.html', '/bbs/Gossiping/M.1616128679.A.378.html', '/bbs/Gossiping/M.1616128527.A.95B.html', '/bbs/Gossiping/M.1616128398.A.3EC.html', '/bbs/Gossiping/M.1616128269.A.D66.html', '/bbs/Gossiping/M.1616128196.A.297.html', '/bbs/Gossiping/M.1616128164.A.6C0.html', '/bbs/Gossiping/M.1616127931.A.6E8.html', '/bbs/Gossiping/M.1616127820.A.5FE.html', '/bbs/Gossiping/M.1616127002.A.7CC.html', '/bbs/Gossiping/M.1616126269.A.5F3.html', '/bbs/Gossiping/M.1616125492.A.F83.html', '/bbs/Gossiping/M.1616125259.A.C6A.html', '/bbs/Gossiping/M.1616125237.A.E48.html', '/bbs/Gossiping/M.1616124931.A.6C8.html', '/bbs/Gossiping/M.1616124289.A.E9D.html', '/bbs/Gossiping/M.1616124161.A.5EC.html', '/bbs/Gossiping/M.1616123786.A.D00.html', '/bbs/Gossiping/M.1616123396.A.16B.html', '/bbs/Gossiping/M.1616123378.A.F03.html', '/bbs/Gossiping/M.1616122836.A.F8E.html', '/bbs/Gossiping/M.1616122680.A.880.html', '/bbs/Gossiping/M.1616122494.A.750.html', '/bbs/Gossiping/M.1616121873.A.9F2.html', '/bbs/Gossiping/M.1616121790.A.4DE.html', '/bbs/Gossiping/M.1616121774.A.8EA.html', '/bbs/Gossiping/M.1616121690.A.4C9.html', '/bbs/Gossiping/M.1616121306.A.ABE.html', '/bbs/Gossiping/M.1616120936.A.6A8.html', '/bbs/Gossiping/M.1616120757.A.22D.html', '/bbs/Gossiping/M.1616120652.A.FDD.html', '/bbs/Gossiping/M.1616120057.A.929.html', '/bbs/Gossiping/M.1616119994.A.BFF.html', '/bbs/Gossiping/M.1616119824.A.262.html', '/bbs/Gossiping/M.1616119423.A.1E0.html', '/bbs/Gossiping/M.1616118454.A.2D5.html', '/bbs/Gossiping/M.1616117868.A.5AF.html', '/bbs/Gossiping/M.1616117541.A.B50.html', '/bbs/Gossiping/M.1616117473.A.627.html', '/bbs/Gossiping/M.1616117431.A.034.html', '/bbs/Gossiping/M.1616116888.A.CFC.html', '/bbs/Gossiping/M.1616116866.A.F7D.html', '/bbs/Gossiping/M.1616116848.A.5F8.html', '/bbs/Gossiping/M.1616116005.A.46D.html', '/bbs/Gossiping/M.1616115192.A.EEA.html', '/bbs/Gossiping/M.1616114459.A.A91.html', '/bbs/Gossiping/M.1616114403.A.7EC.html', '/bbs/Gossiping/M.1616113797.A.88C.html', '/bbs/Gossiping/M.1616113116.A.14A.html', '/bbs/Gossiping/M.1616113111.A.79C.html', '/bbs/Gossiping/M.1616112457.A.A8D.html', '/bbs/Gossiping/M.1616107596.A.D9C.html', '/bbs/Gossiping/M.1616107163.A.18A.html', '/bbs/Gossiping/M.1616096929.A.702.html', '/bbs/Gossiping/M.1616093752.A.ADE.html', '/bbs/Gossiping/M.1616087000.A.ED5.html', '/bbs/Gossiping/M.1616086080.A.9EC.html', '/bbs/Gossiping/M.1616084624.A.C1D.html']\n"
          ],
          "name": "stdout"
        }
      ]
    },
    {
      "cell_type": "markdown",
      "metadata": {
        "id": "eUFR_5HEU9lK"
      },
      "source": [
        "#儲存文章清單"
      ]
    },
    {
      "cell_type": "code",
      "metadata": {
        "id": "A9BAi3hNA3T1",
        "colab": {
          "base_uri": "https://localhost:8080/"
        },
        "outputId": "24313165-5315-45b3-d23f-433d2eceec30"
      },
      "source": [
        "print(len(r_list))\n",
        "print(r_list[-1])\n",
        "#寫入JSON檔案\n",
        "with open('ptt_roach.json', 'w', encoding='utf-8') as f:\n",
        "    json.dump(r_list, f, ensure_ascii=False, indent=4)"
      ],
      "execution_count": null,
      "outputs": [
        {
          "output_type": "stream",
          "text": [
            "160\n",
            "/bbs/Gossiping/M.1616084624.A.C1D.html\n"
          ],
          "name": "stdout"
        }
      ]
    },
    {
      "cell_type": "markdown",
      "metadata": {
        "id": "sUbCLayBVBU5"
      },
      "source": [
        "#將文章各自爬回"
      ]
    },
    {
      "cell_type": "code",
      "metadata": {
        "id": "Z-pmQNdkyUWF",
        "colab": {
          "base_uri": "https://localhost:8080/"
        },
        "outputId": "6ee506dc-461e-4f6f-ef62-01c1fe96171e"
      },
      "source": [
        "#上次爬文結果\n",
        "r_article_contents=[]\n",
        "if os.path.exists('ptt_kerker_articles.json'):\n",
        "  rl_json_f=open('ptt_kerker_articles.json', \"r\")\n",
        "  r_article_contents=json.loads(rl_json_f.read())\n",
        "#文章列表清單\n",
        "rc_json_f=open('ptt_roach.json', \"r\")\n",
        "rr_list=json.loads(rc_json_f.read())"
      ],
      "execution_count": null,
      "outputs": [
        {
          "output_type": "stream",
          "text": [
            "160\n",
            "0\n"
          ],
          "name": "stdout"
        }
      ]
    },
    {
      "cell_type": "code",
      "metadata": {
        "id": "km4NxCq_VIZP"
      },
      "source": [
        "#將文章清單取回\n",
        "for ra_url in rr_list[0:5]:\n",
        "    r_article=req_url(\"https://www.ptt.cc\"+ra_url,{})\n",
        "    r_push=r_article.findAll('div',attrs = {'class' : ['push','richcontent','article-metaline','article-metaline-right']})\n",
        "    for rp in r_push:\n",
        "        rp.decompose()\n",
        "    r_ah=r_article.findAll('a')\n",
        "    for rah in r_ah:\n",
        "        rah.decompose()\n",
        "    r_spa=r_article.findAll('span',attrs = {'class' : ['f2','f6','b6','b7','b3','f1','article-meta-tag','article-metaline','article-meta-value']})\n",
        "    for rspa in r_spa:\n",
        "        rspa.decompose()\n",
        "    r_info=r_article.find('div',attrs = {'id' : 'main-content'})\n",
        "    try:\n",
        "      r_article_content={}\n",
        "      r_article_content['id']=len(r_article_contents)+1\n",
        "      r_article_content['content']=r_info.text\n",
        "      r_article_contents.append(r_article_content)\n",
        "      rr_list.remove(ra_url)\n",
        "    except Exception as e:\n",
        "      print(e)\n",
        "      print(r_article)\n",
        "    time.sleep(2)"
      ],
      "execution_count": null,
      "outputs": []
    },
    {
      "cell_type": "markdown",
      "metadata": {
        "id": "jDu9xLaBkAgz"
      },
      "source": [
        "#儲存收集回來的文章"
      ]
    },
    {
      "cell_type": "code",
      "metadata": {
        "id": "HqB0BHbmArrH",
        "colab": {
          "base_uri": "https://localhost:8080/"
        },
        "outputId": "94554ea0-899d-4bbb-ed89-2fae49d034c9"
      },
      "source": [
        "#剩餘未處理\n",
        "print(len(rr_list))\n",
        "#已經取得文章\n",
        "print(len(r_article_contents))"
      ],
      "execution_count": null,
      "outputs": [
        {
          "output_type": "stream",
          "text": [
            "9\n",
            "151\n"
          ],
          "name": "stdout"
        }
      ]
    },
    {
      "cell_type": "code",
      "metadata": {
        "id": "CmVMmBQmkFHn",
        "colab": {
          "base_uri": "https://localhost:8080/"
        },
        "outputId": "5e54a6ee-40f9-4b29-a5f4-e96e321fd947"
      },
      "source": [
        "#剩餘未處理\n",
        "print(len(rr_list))\n",
        "#已經取得文章\n",
        "print(len(r_article_contents))\n",
        "#寫入JSON檔案\n",
        "with open('ptt_kerker_articles.json', 'w', encoding='utf-8') as f:\n",
        "    json.dump(r_article_contents, f, ensure_ascii=False, indent=4)\n",
        "#寫入JSON檔案\n",
        "with open('ptt_kerker.json', 'w', encoding='utf-8') as f:\n",
        "    json.dump(rr_list, f, ensure_ascii=False, indent=4)"
      ],
      "execution_count": null,
      "outputs": [
        {
          "output_type": "stream",
          "text": [
            "9\n",
            "151\n"
          ],
          "name": "stdout"
        }
      ]
    },
    {
      "cell_type": "code",
      "metadata": {
        "id": "O7eOkbfw_20L",
        "colab": {
          "base_uri": "https://localhost:8080/"
        },
        "outputId": "708d3994-5cee-4015-ae1f-f676aa0e3c9e"
      },
      "source": [
        "rd_json_f=open('ptt_kerker_articles.json', \"r\")\n",
        "r_article_contents=json.loads(rd_json_f.read())\n",
        "r_article_contents_list=[]\n",
        "for r_article_content in r_article_contents:\n",
        "  r_article_content['id']=r_article_content['id']+70000\n",
        "  r_article_content['content']=r_article_content['content'].replace('\\n','').replace('\\t','').strip()\n",
        "  tidx=r_article_content['content'].find('新聞標題')\n",
        "  title=''\n",
        "  if  tidx>0:\n",
        "    title=r_article_content['content'][tidx:101]\n",
        "  else:\n",
        "    title=r_article_content['content'][0:101]\n",
        "  r_article_content['title']=title\n",
        "  r_article_contents_list.append(r_article_content)\n",
        "\n",
        "print(r_article_contents_list[-1])\n"
      ],
      "execution_count": null,
      "outputs": [
        {
          "output_type": "stream",
          "text": [
            "{'id': 70151, 'content': '1.媒體來源:中央廣播電台2.記者署名:撰稿編輯：吳寧康3.完整新聞標題:EMA肯定安全有效 歐盟國家恢復接種AZ疫苗4.完整新聞內文:在歐盟藥品管理局(EMA)18日表示，阿斯特捷利康(AstraZeneca)的2019年冠狀病毒疾病(COVID-19)疫苗是「安全有效」，而且和更高的血栓風險無關後，歐洲主要國家說，他們將會恢復對這支AZ疫苗的接種。由於有AZ疫苗的接種者出現血管出血(bleeding)、血栓(blood clots)與低血小板數量(low platelet counts)等嚴重不良副作用，因此包括歐盟最大成員國的德國、法國和義大利在內，已有多國宣佈暫停接種AZ疫苗。而歐盟藥品管理局發表這項備受矚目的宣佈之際，正值世界衛生組織(WHO)和英國衛生監管當局都已表示，AZ疫苗是安全的，而且對幾個正面臨確診病例令人憂心升高的國家來說，不接種疫苗的風險反而更高。在經過旗下一個安全委員會的調查後，歐盟藥品管理局執行主任庫克(Emer Cooke)18日表示，委員會已取得一項明確的科學結論：這是一支安全且有效的疫苗，而且委員會還得到結論，這支疫苗和血栓栓塞事件或血栓的總體風險上升無關。然而，庫克也指出，他們無法「確切排除」血栓事件和疫苗之間的關聯。在歐盟藥品管理局發表聲明後，包括德國、法國、西班牙、義大利、荷蘭、葡萄牙、立陶宛、拉脫維亞、斯洛維尼亞和保加利亞也都表示，將很快恢復接種AZ疫苗。而在15日暫停使用AZ疫苗的法國指出，將從19日起恢復施打這支疫苗，法國總理卡斯特克斯(Jean Castex)將會是接種者之一。此外，法國18日也成為最新一個加強防疫限制的國家，宣佈對巴黎和其他幾個地區實施一個月的有限封城，試圖擊退已導致醫院不堪重負的第三波疫情感染。5.完整新聞連結 (或短網址):6.備註:歐洲好多國家要恢復AZ施打了不過一開始帶頭的北歐好像還在觀望?台灣也快要開始打了 你各位OK嗎--', 'title': '新聞標題:EMA肯定安全有效 歐盟國家恢復接種AZ疫苗4.完整新聞內文:在歐盟藥品管理局(EMA)18日表示，阿斯特捷利康(AstraZe'}\n"
          ],
          "name": "stdout"
        }
      ]
    },
    {
      "cell_type": "code",
      "metadata": {
        "id": "0vV_46hdApQx"
      },
      "source": [
        "with open('ptt_kerker_articles_final.json', 'w', encoding='utf-8') as f:\n",
        "    json.dump(r_article_contents_list, f, ensure_ascii=False, indent=4)"
      ],
      "execution_count": null,
      "outputs": []
    },
    {
      "cell_type": "markdown",
      "metadata": {
        "id": "FbaBo0ZnXKJC"
      },
      "source": [
        "#CKIP"
      ]
    },
    {
      "cell_type": "code",
      "metadata": {
        "id": "6GpnN-YCXIEn"
      },
      "source": [
        "!pip install ckiptagger\n",
        "!pip install tensorflow\n",
        "!pip install gdown"
      ],
      "execution_count": null,
      "outputs": []
    },
    {
      "cell_type": "markdown",
      "metadata": {
        "id": "wb3GqBDlXVRb"
      },
      "source": [
        "#CKIP語料"
      ]
    },
    {
      "cell_type": "code",
      "metadata": {
        "id": "VKeLuHUkXUsg",
        "colab": {
          "base_uri": "https://localhost:8080/"
        },
        "outputId": "0052c00d-98ce-4fad-88a9-48a34ef713e5"
      },
      "source": [
        "# -*- coding: utf-8 -*-\n",
        "from ckiptagger import data_utils\n",
        "data_utils.download_data_gdown(\"./\")"
      ],
      "execution_count": null,
      "outputs": [
        {
          "output_type": "stream",
          "text": [
            "Downloading...\n",
            "From: https://drive.google.com/uc?id=1efHsY16pxK0lBD2gYCgCTnv1Swstq771\n",
            "To: /content/drive/My Drive/Colab Notebooks/pttroach/data.zip\n",
            "1.88GB [00:39, 47.2MB/s]\n"
          ],
          "name": "stderr"
        }
      ]
    },
    {
      "cell_type": "code",
      "metadata": {
        "id": "9ZTc-HgZqQDI"
      },
      "source": [
        "# 將文章切出詞組,區分為地名、人名之類的\n",
        "# -*- coding: utf-8 -*-\n",
        "from ckiptagger import WS, POS, NER\n",
        "\n",
        "rd_json_f=open('ptt_kerker_articles_final.json', \"r\")\n",
        "r_article_contents_list=json.loads(rd_json_f.read())\n",
        "\n",
        "r_article_contents_last=r_article_contents_list[-1]\n",
        "\n",
        "text = r_article_contents_last['content']\n",
        "ws = WS(\"./data\")\n",
        "pos = POS(\"./data\")\n",
        "ner = NER(\"./data\")\n",
        "\n",
        "ws_results = ws([text])\n",
        "pos_results = pos(ws_results)\n",
        "ner_results = ner(ws_results, pos_results)\n",
        "\n",
        "for name in ner_results[0]:\n",
        "    print(name)"
      ],
      "execution_count": null,
      "outputs": []
    }
  ]
}