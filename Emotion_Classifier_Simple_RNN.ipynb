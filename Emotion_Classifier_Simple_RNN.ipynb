{
  "nbformat": 4,
  "nbformat_minor": 0,
  "metadata": {
    "colab": {
      "name": "Emotion Classifier_Simple RNN.ipynb",
      "provenance": [],
      "collapsed_sections": [],
      "toc_visible": true,
      "include_colab_link": true
    },
    "kernelspec": {
      "name": "python3",
      "display_name": "Python 3"
    },
    "accelerator": "GPU"
  },
  "cells": [
    {
      "cell_type": "markdown",
      "metadata": {
        "id": "view-in-github",
        "colab_type": "text"
      },
      "source": [
        "<a href=\"https://colab.research.google.com/github/liuchiente/UDICatNCHU/blob/main/Emotion_Classifier_Simple_RNN.ipynb\" target=\"_parent\"><img src=\"https://colab.research.google.com/assets/colab-badge.svg\" alt=\"Open In Colab\"/></a>"
      ]
    },
    {
      "cell_type": "markdown",
      "metadata": {
        "id": "0d6jOHoAQ1TC"
      },
      "source": [
        "### **連接並mount 雲端硬碟**"
      ]
    },
    {
      "cell_type": "code",
      "metadata": {
        "id": "VxNj_zm1RZII"
      },
      "source": [
        "#定義路徑\n",
        "SYS_DIR = \"/content/drive/My Drive/Colab Notebooks/RNN_Pytorch_Online_Shopping/\"\n",
        "trained_Model_Path = \"trained_model\"\n",
        "trained_Model_Name = \"RNN-model.pt\""
      ],
      "execution_count": 42,
      "outputs": []
    },
    {
      "cell_type": "code",
      "metadata": {
        "id": "OSDJDZetQy6Z",
        "colab": {
          "base_uri": "https://localhost:8080/"
        },
        "outputId": "9d6ff7ff-0525-40f7-c69c-0cb5f8cfbcae"
      },
      "source": [
        "#連接並mount自己的雲端硬碟(點選跑出網址複製最後的授權碼貼上並執行)\n",
        "from google.colab import drive\n",
        "drive.mount('/content/drive', force_remount=True)"
      ],
      "execution_count": 43,
      "outputs": [
        {
          "output_type": "stream",
          "text": [
            "Mounted at /content/drive\n"
          ],
          "name": "stdout"
        }
      ]
    },
    {
      "cell_type": "code",
      "metadata": {
        "id": "eSIkdYhg0Q_L"
      },
      "source": [
        "#切換執行目錄\n",
        "import os\n",
        "if not os.path.isdir(SYS_DIR):\n",
        "    os.mkdir(SYS_DIR)\n",
        "os.chdir(SYS_DIR)"
      ],
      "execution_count": 44,
      "outputs": []
    },
    {
      "cell_type": "code",
      "metadata": {
        "id": "5KzeqZPw0iHs"
      },
      "source": [
        "!ls"
      ],
      "execution_count": null,
      "outputs": []
    },
    {
      "cell_type": "markdown",
      "metadata": {
        "id": "jUOqDDO_0WnK"
      },
      "source": [
        "### **下載dataset**"
      ]
    },
    {
      "cell_type": "code",
      "metadata": {
        "id": "lUPu4-y30YX2"
      },
      "source": [
        "import os\n",
        "def fileExists(filepath):\n",
        "  return  os.path.exists(filepath)\n",
        "#我把資料集放到我的github\n",
        "if fileExists(SYS_DIR+'dataset/online_shopping_10_cats.csv')!= True:\n",
        "  !wget -P dataset/ https://raw.githubusercontent.com/liuchiente/UDICatNCHU/main/online_shopping_10_cats.csv"
      ],
      "execution_count": 45,
      "outputs": []
    },
    {
      "cell_type": "code",
      "metadata": {
        "id": "r0I78eaz0ndd"
      },
      "source": [
        "#引入套件\n",
        "import pandas as pd\n",
        "import numpy as np"
      ],
      "execution_count": 46,
      "outputs": []
    },
    {
      "cell_type": "code",
      "metadata": {
        "id": "cJeaWIB40qAn",
        "colab": {
          "base_uri": "https://localhost:8080/"
        },
        "outputId": "f99d92ec-6c1f-4c65-9892-9cc5a98d1cd6"
      },
      "source": [
        "#加載資料集\n",
        "\n",
        "pd_all = pd.read_csv(SYS_DIR + 'dataset/online_shopping_10_cats.csv')\n",
        "\n",
        "print('評論數目（全）：%d' % pd_all.shape[0])\n",
        "print('評論數目（正向）：%d' % pd_all[pd_all.label==1].shape[0])\n",
        "print('評論數目（負向）：%d' % pd_all[pd_all.label==0].shape[0])\n",
        "print(type(pd_all))"
      ],
      "execution_count": 47,
      "outputs": [
        {
          "output_type": "stream",
          "text": [
            "評論數目（全）：62774\n",
            "評論數目（正向）：31728\n",
            "評論數目（負向）：31046\n",
            "<class 'pandas.core.frame.DataFrame'>\n"
          ],
          "name": "stdout"
        }
      ]
    },
    {
      "cell_type": "code",
      "metadata": {
        "id": "w4wRq6nV0sB8",
        "colab": {
          "base_uri": "https://localhost:8080/",
          "height": 669
        },
        "outputId": "0b640fed-404f-4ca1-cbd1-d37dd3200ef7"
      },
      "source": [
        "#隨機抽樣20筆\n",
        "pd_all.sample(20)"
      ],
      "execution_count": 48,
      "outputs": [
        {
          "output_type": "execute_result",
          "data": {
            "text/html": [
              "<div>\n",
              "<style scoped>\n",
              "    .dataframe tbody tr th:only-of-type {\n",
              "        vertical-align: middle;\n",
              "    }\n",
              "\n",
              "    .dataframe tbody tr th {\n",
              "        vertical-align: top;\n",
              "    }\n",
              "\n",
              "    .dataframe thead th {\n",
              "        text-align: right;\n",
              "    }\n",
              "</style>\n",
              "<table border=\"1\" class=\"dataframe\">\n",
              "  <thead>\n",
              "    <tr style=\"text-align: right;\">\n",
              "      <th></th>\n",
              "      <th>cat</th>\n",
              "      <th>label</th>\n",
              "      <th>review</th>\n",
              "    </tr>\n",
              "  </thead>\n",
              "  <tbody>\n",
              "    <tr>\n",
              "      <th>23582</th>\n",
              "      <td>水果</td>\n",
              "      <td>0</td>\n",
              "      <td>这个苹果太小了，而且硬邦邦的没有水分，是一次非常非常难忘的购物，再也不会买了</td>\n",
              "    </tr>\n",
              "    <tr>\n",
              "      <th>42240</th>\n",
              "      <td>衣服</td>\n",
              "      <td>1</td>\n",
              "      <td>牛仔裤大小合适，穿上很舒服，老公很喜欢，物流发货也很快，下次还会来购买！</td>\n",
              "    </tr>\n",
              "    <tr>\n",
              "      <th>56564</th>\n",
              "      <td>酒店</td>\n",
              "      <td>1</td>\n",
              "      <td>地点很近沈阳北站,打的不会跳表.服务很好,尤其是前台和bell boy.标间大床房床?</td>\n",
              "    </tr>\n",
              "    <tr>\n",
              "      <th>10567</th>\n",
              "      <td>平板</td>\n",
              "      <td>0</td>\n",
              "      <td>还真你码是 草，老子一直在你这买东西，还给我来个这样的，在你 吗也不从你这买东西了，就这样，...</td>\n",
              "    </tr>\n",
              "    <tr>\n",
              "      <th>12826</th>\n",
              "      <td>平板</td>\n",
              "      <td>0</td>\n",
              "      <td>交过钱了客服就不理人.平板，平板感觉用电很快.充电很慢</td>\n",
              "    </tr>\n",
              "    <tr>\n",
              "      <th>28851</th>\n",
              "      <td>洗发水</td>\n",
              "      <td>1</td>\n",
              "      <td>还没用不知道是不是正品，看起还行，，，，，</td>\n",
              "    </tr>\n",
              "    <tr>\n",
              "      <th>57378</th>\n",
              "      <td>酒店</td>\n",
              "      <td>1</td>\n",
              "      <td>酒店很好，装修得体，服务佳，性价比高。赠送的早餐非常丰富，晚上自助餐及其丰盛，而且品质高。前...</td>\n",
              "    </tr>\n",
              "    <tr>\n",
              "      <th>1828</th>\n",
              "      <td>书籍</td>\n",
              "      <td>1</td>\n",
              "      <td>不错的选择，虽然是差不多全图画的了，而且内容比较浅．但是可以很好的培养孩子们的观察＼自我阅读...</td>\n",
              "    </tr>\n",
              "    <tr>\n",
              "      <th>57098</th>\n",
              "      <td>酒店</td>\n",
              "      <td>1</td>\n",
              "      <td>房间设施比较旧，餐饮贵，服务不错，没有任何景观。外观比狮林好点</td>\n",
              "    </tr>\n",
              "    <tr>\n",
              "      <th>58220</th>\n",
              "      <td>酒店</td>\n",
              "      <td>0</td>\n",
              "      <td>这家酒店非常差,大家不要给它的外表所欺骗,房间非常旧,而且房间烟味很重,我觉得连招待所也要比它好</td>\n",
              "    </tr>\n",
              "    <tr>\n",
              "      <th>28757</th>\n",
              "      <td>洗发水</td>\n",
              "      <td>1</td>\n",
              "      <td>我能说我为了梳子才买的嘛？！！结果没有送梳子！！！</td>\n",
              "    </tr>\n",
              "    <tr>\n",
              "      <th>62165</th>\n",
              "      <td>酒店</td>\n",
              "      <td>0</td>\n",
              "      <td>设施老旧，服务员素质不高借个勺子都要押金借伞也要押金服务员整理房间把遥控器卷到了被子里，晕</td>\n",
              "    </tr>\n",
              "    <tr>\n",
              "      <th>40120</th>\n",
              "      <td>衣服</td>\n",
              "      <td>1</td>\n",
              "      <td>大小合适，穿的感觉还行，不知后续退色是否严重，有待观察！</td>\n",
              "    </tr>\n",
              "    <tr>\n",
              "      <th>35954</th>\n",
              "      <td>洗发水</td>\n",
              "      <td>0</td>\n",
              "      <td>一般啊下次再看看能不能买</td>\n",
              "    </tr>\n",
              "    <tr>\n",
              "      <th>38517</th>\n",
              "      <td>蒙牛</td>\n",
              "      <td>0</td>\n",
              "      <td>去他妈的，谁再买蒙牛伊利谁是傻逼</td>\n",
              "    </tr>\n",
              "    <tr>\n",
              "      <th>3815</th>\n",
              "      <td>书籍</td>\n",
              "      <td>0</td>\n",
              "      <td>9月30号下的单并付钱的，到今天还没有收到~~~~~~~~~~~~~~~~~~~~生气</td>\n",
              "    </tr>\n",
              "    <tr>\n",
              "      <th>47843</th>\n",
              "      <td>衣服</td>\n",
              "      <td>0</td>\n",
              "      <td>不会吧，刚到货就降价！！！太坑了。</td>\n",
              "    </tr>\n",
              "    <tr>\n",
              "      <th>45460</th>\n",
              "      <td>衣服</td>\n",
              "      <td>0</td>\n",
              "      <td>与食物严重不符，垃圾东西</td>\n",
              "    </tr>\n",
              "    <tr>\n",
              "      <th>19031</th>\n",
              "      <td>水果</td>\n",
              "      <td>1</td>\n",
              "      <td>苹果非常清甜，而且很脆，卖家非常有心。给大大的赞！</td>\n",
              "    </tr>\n",
              "    <tr>\n",
              "      <th>22163</th>\n",
              "      <td>水果</td>\n",
              "      <td>0</td>\n",
              "      <td>网购水果果然不新鲜，没有下次了。?</td>\n",
              "    </tr>\n",
              "  </tbody>\n",
              "</table>\n",
              "</div>"
            ],
            "text/plain": [
              "       cat  label                                             review\n",
              "23582   水果      0             这个苹果太小了，而且硬邦邦的没有水分，是一次非常非常难忘的购物，再也不会买了\n",
              "42240   衣服      1               牛仔裤大小合适，穿上很舒服，老公很喜欢，物流发货也很快，下次还会来购买！\n",
              "56564   酒店      1        地点很近沈阳北站,打的不会跳表.服务很好,尤其是前台和bell boy.标间大床房床?\n",
              "10567   平板      0  还真你码是 草，老子一直在你这买东西，还给我来个这样的，在你 吗也不从你这买东西了，就这样，...\n",
              "12826   平板      0                        交过钱了客服就不理人.平板，平板感觉用电很快.充电很慢\n",
              "28851  洗发水      1                              还没用不知道是不是正品，看起还行，，，，，\n",
              "57378   酒店      1  酒店很好，装修得体，服务佳，性价比高。赠送的早餐非常丰富，晚上自助餐及其丰盛，而且品质高。前...\n",
              "1828    书籍      1  不错的选择，虽然是差不多全图画的了，而且内容比较浅．但是可以很好的培养孩子们的观察＼自我阅读...\n",
              "57098   酒店      1                    房间设施比较旧，餐饮贵，服务不错，没有任何景观。外观比狮林好点\n",
              "58220   酒店      0   这家酒店非常差,大家不要给它的外表所欺骗,房间非常旧,而且房间烟味很重,我觉得连招待所也要比它好\n",
              "28757  洗发水      1                          我能说我为了梳子才买的嘛？！！结果没有送梳子！！！\n",
              "62165   酒店      0      设施老旧，服务员素质不高借个勺子都要押金借伞也要押金服务员整理房间把遥控器卷到了被子里，晕\n",
              "40120   衣服      1                       大小合适，穿的感觉还行，不知后续退色是否严重，有待观察！\n",
              "35954  洗发水      0                                       一般啊下次再看看能不能买\n",
              "38517   蒙牛      0                                   去他妈的，谁再买蒙牛伊利谁是傻逼\n",
              "3815    书籍      0        9月30号下的单并付钱的，到今天还没有收到~~~~~~~~~~~~~~~~~~~~生气\n",
              "47843   衣服      0                                  不会吧，刚到货就降价！！！太坑了。\n",
              "45460   衣服      0                                       与食物严重不符，垃圾东西\n",
              "19031   水果      1                          苹果非常清甜，而且很脆，卖家非常有心。给大大的赞！\n",
              "22163   水果      0                                  网购水果果然不新鲜，没有下次了。?"
            ]
          },
          "metadata": {
            "tags": []
          },
          "execution_count": 48
        }
      ]
    },
    {
      "cell_type": "code",
      "metadata": {
        "id": "bPRJBahJkdFS"
      },
      "source": [
        "#構造平衡語料\n",
        "pd_positive = pd_all[pd_all.label==1]\n",
        "pd_negative = pd_all[pd_all.label==0]\n",
        "\n",
        "def get_balance_corpus(corpus_size, corpus_pos, corpus_neg):\n",
        "    sample_size = corpus_size // 2\n",
        "    pd_corpus_balance = pd.concat([corpus_pos.sample(sample_size, replace=corpus_pos.shape[0]<sample_size), \\\n",
        "                                   corpus_neg.sample(sample_size, replace=corpus_neg.shape[0]<sample_size)])\n",
        "    \n",
        "    print('評論數目(總體)：%d' % pd_corpus_balance.shape[0])\n",
        "    print('評論數目(正向)：%d' % pd_corpus_balance[pd_corpus_balance.label==1].shape[0])\n",
        "    print('評論數目(負向)：%d' % pd_corpus_balance[pd_corpus_balance.label==0].shape[0])    \n",
        "    \n",
        "    return pd_corpus_balance"
      ],
      "execution_count": 49,
      "outputs": []
    },
    {
      "cell_type": "code",
      "metadata": {
        "id": "qmnoJVafkgS1",
        "colab": {
          "base_uri": "https://localhost:8080/"
        },
        "outputId": "2f1647ee-e05f-440e-c363-733e3364a56e"
      },
      "source": [
        "# 在訓練資料中,為了避免過度擬合, 會盡量把各類型資料做平衡\n",
        "pd_60000 = get_balance_corpus(60000, pd_positive, pd_negative)"
      ],
      "execution_count": 50,
      "outputs": [
        {
          "output_type": "stream",
          "text": [
            "評論數目(總體)：60000\n",
            "評論數目(正向)：30000\n",
            "評論數目(負向)：30000\n"
          ],
          "name": "stdout"
        }
      ]
    },
    {
      "cell_type": "code",
      "metadata": {
        "id": "D5-Cv7RJZhjA",
        "colab": {
          "base_uri": "https://localhost:8080/",
          "height": 669
        },
        "outputId": "0e12c7e8-6618-4e6e-a98e-69bf5e18c2da"
      },
      "source": [
        "#隨機抽樣20筆\n",
        "pd_60000.sample(20)"
      ],
      "execution_count": 51,
      "outputs": [
        {
          "output_type": "execute_result",
          "data": {
            "text/html": [
              "<div>\n",
              "<style scoped>\n",
              "    .dataframe tbody tr th:only-of-type {\n",
              "        vertical-align: middle;\n",
              "    }\n",
              "\n",
              "    .dataframe tbody tr th {\n",
              "        vertical-align: top;\n",
              "    }\n",
              "\n",
              "    .dataframe thead th {\n",
              "        text-align: right;\n",
              "    }\n",
              "</style>\n",
              "<table border=\"1\" class=\"dataframe\">\n",
              "  <thead>\n",
              "    <tr style=\"text-align: right;\">\n",
              "      <th></th>\n",
              "      <th>cat</th>\n",
              "      <th>label</th>\n",
              "      <th>review</th>\n",
              "    </tr>\n",
              "  </thead>\n",
              "  <tbody>\n",
              "    <tr>\n",
              "      <th>8143</th>\n",
              "      <td>平板</td>\n",
              "      <td>1</td>\n",
              "      <td>非常好，很值，声音效果很牛逼，买了之后价格立马涨价178，这套路，</td>\n",
              "    </tr>\n",
              "    <tr>\n",
              "      <th>12863</th>\n",
              "      <td>平板</td>\n",
              "      <td>0</td>\n",
              "      <td>差评！太差，玩游戏两小时就没电。</td>\n",
              "    </tr>\n",
              "    <tr>\n",
              "      <th>25701</th>\n",
              "      <td>水果</td>\n",
              "      <td>0</td>\n",
              "      <td>说好的80果，结果只有一个是80的，第一次这么失望！</td>\n",
              "    </tr>\n",
              "    <tr>\n",
              "      <th>55802</th>\n",
              "      <td>酒店</td>\n",
              "      <td>1</td>\n",
              "      <td>酒店位置比较适中，离咱们公司客户近，开会开得晚或一大早过去开会都很方便。</td>\n",
              "    </tr>\n",
              "    <tr>\n",
              "      <th>30240</th>\n",
              "      <td>洗发水</td>\n",
              "      <td>1</td>\n",
              "      <td>用过之后很清爽，喜欢这个味道，洗过后头发变得比较柔软，淡淡的薄荷香味，十分舒服。</td>\n",
              "    </tr>\n",
              "    <tr>\n",
              "      <th>6785</th>\n",
              "      <td>平板</td>\n",
              "      <td>1</td>\n",
              "      <td>很好很实用，京东就是好</td>\n",
              "    </tr>\n",
              "    <tr>\n",
              "      <th>3740</th>\n",
              "      <td>书籍</td>\n",
              "      <td>0</td>\n",
              "      <td>不错,好象更适合小一点的宝宝看,图画很简单,明了.大宝宝看有点简单了.</td>\n",
              "    </tr>\n",
              "    <tr>\n",
              "      <th>20701</th>\n",
              "      <td>水果</td>\n",
              "      <td>1</td>\n",
              "      <td>这次的比较小个，也没有什么特别处，一般</td>\n",
              "    </tr>\n",
              "    <tr>\n",
              "      <th>60322</th>\n",
              "      <td>酒店</td>\n",
              "      <td>0</td>\n",
              "      <td>到的那天 系统坏了 排队等了半小时 房间很旧 插座很少 被子有点潮 被套有几个破洞 被子掀开...</td>\n",
              "    </tr>\n",
              "    <tr>\n",
              "      <th>20965</th>\n",
              "      <td>水果</td>\n",
              "      <td>1</td>\n",
              "      <td>好吃，挺新鲜的，我在家门口水果摊买的都没有这么红，还比这个贵，物美价廉了    京东生鲜派送...</td>\n",
              "    </tr>\n",
              "    <tr>\n",
              "      <th>314</th>\n",
              "      <td>书籍</td>\n",
              "      <td>1</td>\n",
              "      <td>这本书没有经历过沧桑变化的人怎么看得懂呢?隐士是对世俗失望才去隐居的,他是想追求一个更好的世...</td>\n",
              "    </tr>\n",
              "    <tr>\n",
              "      <th>26579</th>\n",
              "      <td>洗发水</td>\n",
              "      <td>1</td>\n",
              "      <td>味道很好闻的，蓝瓶装买过了尝试一次这个白瓶的怎么样，容量还是挺厚道的比嗨非斯系列抢，去屑效果...</td>\n",
              "    </tr>\n",
              "    <tr>\n",
              "      <th>5433</th>\n",
              "      <td>平板</td>\n",
              "      <td>1</td>\n",
              "      <td>对平板没什么使用体验，主要是华为手机用的不错所以买了华为的平板，黑边什么的不看评论还不知道，...</td>\n",
              "    </tr>\n",
              "    <tr>\n",
              "      <th>16358</th>\n",
              "      <td>水果</td>\n",
              "      <td>1</td>\n",
              "      <td>苹果很新鲜，口感也挺好的，脆脆的</td>\n",
              "    </tr>\n",
              "    <tr>\n",
              "      <th>29293</th>\n",
              "      <td>洗发水</td>\n",
              "      <td>1</td>\n",
              "      <td>第二次买了，很划算，是正品，洗了头之后，头发很顺。</td>\n",
              "    </tr>\n",
              "    <tr>\n",
              "      <th>43521</th>\n",
              "      <td>衣服</td>\n",
              "      <td>1</td>\n",
              "      <td>宝贝质量很好啊～版型好看，适合早晚穿，现在的天气中午穿会热，但还是很喜欢，推荐～很修身</td>\n",
              "    </tr>\n",
              "    <tr>\n",
              "      <th>40611</th>\n",
              "      <td>衣服</td>\n",
              "      <td>1</td>\n",
              "      <td>质量不错，老公很喜欢 穿上很舒服</td>\n",
              "    </tr>\n",
              "    <tr>\n",
              "      <th>53897</th>\n",
              "      <td>酒店</td>\n",
              "      <td>1</td>\n",
              "      <td>这是一家市政府指定招待所，分好几个区域，住的是贵宾楼，应该是宾馆中最好的区域吧。实在话，宾馆...</td>\n",
              "    </tr>\n",
              "    <tr>\n",
              "      <th>5484</th>\n",
              "      <td>平板</td>\n",
              "      <td>1</td>\n",
              "      <td>买给小孩学习用，速度很快，内存还可以扩展，外出携带也方便！</td>\n",
              "    </tr>\n",
              "    <tr>\n",
              "      <th>55772</th>\n",
              "      <td>酒店</td>\n",
              "      <td>1</td>\n",
              "      <td>随便报一家酒店的合作单位，得到的价格都比携程的低。看来携程要作作工作了。</td>\n",
              "    </tr>\n",
              "  </tbody>\n",
              "</table>\n",
              "</div>"
            ],
            "text/plain": [
              "       cat  label                                             review\n",
              "8143    平板      1                  非常好，很值，声音效果很牛逼，买了之后价格立马涨价178，这套路，\n",
              "12863   平板      0                                   差评！太差，玩游戏两小时就没电。\n",
              "25701   水果      0                         说好的80果，结果只有一个是80的，第一次这么失望！\n",
              "55802   酒店      1               酒店位置比较适中，离咱们公司客户近，开会开得晚或一大早过去开会都很方便。\n",
              "30240  洗发水      1           用过之后很清爽，喜欢这个味道，洗过后头发变得比较柔软，淡淡的薄荷香味，十分舒服。\n",
              "6785    平板      1                                        很好很实用，京东就是好\n",
              "3740    书籍      0                不错,好象更适合小一点的宝宝看,图画很简单,明了.大宝宝看有点简单了.\n",
              "20701   水果      1                                这次的比较小个，也没有什么特别处，一般\n",
              "60322   酒店      0  到的那天 系统坏了 排队等了半小时 房间很旧 插座很少 被子有点潮 被套有几个破洞 被子掀开...\n",
              "20965   水果      1  好吃，挺新鲜的，我在家门口水果摊买的都没有这么红，还比这个贵，物美价廉了    京东生鲜派送...\n",
              "314     书籍      1  这本书没有经历过沧桑变化的人怎么看得懂呢?隐士是对世俗失望才去隐居的,他是想追求一个更好的世...\n",
              "26579  洗发水      1  味道很好闻的，蓝瓶装买过了尝试一次这个白瓶的怎么样，容量还是挺厚道的比嗨非斯系列抢，去屑效果...\n",
              "5433    平板      1  对平板没什么使用体验，主要是华为手机用的不错所以买了华为的平板，黑边什么的不看评论还不知道，...\n",
              "16358   水果      1                                   苹果很新鲜，口感也挺好的，脆脆的\n",
              "29293  洗发水      1                          第二次买了，很划算，是正品，洗了头之后，头发很顺。\n",
              "43521   衣服      1        宝贝质量很好啊～版型好看，适合早晚穿，现在的天气中午穿会热，但还是很喜欢，推荐～很修身\n",
              "40611   衣服      1                                   质量不错，老公很喜欢 穿上很舒服\n",
              "53897   酒店      1  这是一家市政府指定招待所，分好几个区域，住的是贵宾楼，应该是宾馆中最好的区域吧。实在话，宾馆...\n",
              "5484    平板      1                      买给小孩学习用，速度很快，内存还可以扩展，外出携带也方便！\n",
              "55772   酒店      1               随便报一家酒店的合作单位，得到的价格都比携程的低。看来携程要作作工作了。"
            ]
          },
          "metadata": {
            "tags": []
          },
          "execution_count": 51
        }
      ]
    },
    {
      "cell_type": "markdown",
      "metadata": {
        "id": "mCyLjbeFl_ip"
      },
      "source": [
        "#數據集分割\n",
        "一般我們做機器學習會將數據分為訓練集和測試集，而在深度學習中，需要多輪訓練學習，每次的學習過程都包括訓練和驗證，最後再進行測試。所以需要將數據分成訓練、驗證和測試數據。"
      ]
    },
    {
      "cell_type": "code",
      "metadata": {
        "id": "uhlOtBKFktwt"
      },
      "source": [
        "def split_csv(infile, trainfile, valtestfile, seed=999, ratio=0.2):\t\n",
        "    df = pd.read_csv(infile)\n",
        "    df[\"review\"] = df.review.str.replace(\"\\n\", \" \")\t\n",
        "    idxs = np.arange(df.shape[0])\t\n",
        "    np.random.seed(seed)\t\n",
        "    np.random.shuffle(idxs)\t\n",
        "    val_size = int(len(idxs) * ratio)\t\n",
        "    df.iloc[idxs[:val_size], :].to_csv(valtestfile, index=False)\t\n",
        "    df.iloc[idxs[val_size:], :].to_csv(trainfile, index=False)\n",
        "def split_dataFrame(df, trainfile, valtestfile, seed=999, ratio=0.2):\t\n",
        "    df[\"review\"] = df.review.str.replace(\"\\n\", \" \")\t\n",
        "    idxs = np.arange(df.shape[0])\t\n",
        "    np.random.seed(seed)\t\n",
        "    np.random.shuffle(idxs)\t\n",
        "    val_size = int(len(idxs) * ratio)\t\n",
        "    df.iloc[idxs[:val_size], :].to_csv(valtestfile, index=False)\t\n",
        "    df.iloc[idxs[val_size:], :].to_csv(trainfile, index=False)\n",
        "#先將數據分為train.csv和test.csv\t\n",
        "split_dataFrame(df=pd_60000, \t\n",
        "        trainfile=SYS_DIR + 'dataset/train.csv', \t\n",
        "        valtestfile=SYS_DIR + 'dataset/test.csv', \t\n",
        "        seed=999, \t\n",
        "        ratio=0.2)\n",
        "#再將train.csv分為dataset_train.csv和dataset_valid.csv\n",
        "split_csv(infile=SYS_DIR + 'dataset/train.csv', \t\n",
        "        trainfile=SYS_DIR + 'dataset/dataset_train.csv', \t\n",
        "        valtestfile=SYS_DIR + 'dataset/dataset_valid.csv', \t\n",
        "        seed=999, \t\n",
        "        ratio=0.2)"
      ],
      "execution_count": 52,
      "outputs": []
    },
    {
      "cell_type": "code",
      "metadata": {
        "id": "WVE7CN-Y1vd0",
        "colab": {
          "base_uri": "https://localhost:8080/"
        },
        "outputId": "fdffc833-5ca0-4d47-9b62-0bfcf66157c3"
      },
      "source": [
        "#安裝結巴\n",
        "!pip install jieba"
      ],
      "execution_count": 53,
      "outputs": [
        {
          "output_type": "stream",
          "text": [
            "Requirement already satisfied: jieba in /usr/local/lib/python3.7/dist-packages (0.42.1)\n"
          ],
          "name": "stdout"
        }
      ]
    },
    {
      "cell_type": "code",
      "metadata": {
        "id": "OSWHOUhKoEp0",
        "colab": {
          "base_uri": "https://localhost:8080/"
        },
        "outputId": "59aff5ca-828d-45b8-a9f2-bbeef3d51528"
      },
      "source": [
        "# 因為原文是簡體中文, 所以使用 OpenCC 來達成繁簡轉換\n",
        "! pip install opencc-python-reimplemented"
      ],
      "execution_count": 54,
      "outputs": [
        {
          "output_type": "stream",
          "text": [
            "Requirement already satisfied: opencc-python-reimplemented in /usr/local/lib/python3.7/dist-packages (0.1.6)\n"
          ],
          "name": "stdout"
        }
      ]
    },
    {
      "cell_type": "code",
      "metadata": {
        "id": "48nDKlgD1xdM",
        "colab": {
          "base_uri": "https://localhost:8080/"
        },
        "outputId": "6f962cda-4fbb-46be-c610-1ebc5597089e"
      },
      "source": [
        "import jieba\n",
        "import jieba.posseg as psg\n",
        "import codecs\n",
        "\n",
        "#利用OpenCC將簡體中文轉繁體中文\n",
        "from opencc import OpenCC\n",
        "cc = OpenCC('s2t') #s2t: 簡體中文 -> 繁體中文\n",
        "\n",
        "# jieba custom setting.\n",
        "jieba.set_dictionary(SYS_DIR + 'dict/dict.txt.big.txt')\n",
        "\n",
        "\n",
        "# load stopwords set 引入了停用詞(停用詞就是像英文中的 the,a,this，中文的你我他，與其他詞相比顯得不怎麼重要)\n",
        "stopword_set = set()\n",
        "with codecs.open(SYS_DIR + 'dict/stopwords.txt','r','utf-8') as stopwords:\n",
        "    for stopword in stopwords:\n",
        "        stopword_set.add(stopword.strip('\\n'))\n",
        "\t\n",
        "#中文斷詞\n",
        "def tokenize(sentence):\n",
        "    converted = cc.convert(sentence) #簡>繁\n",
        "    words = jieba.posseg.cut(converted)\n",
        "    words = [w.word for w in words if w.word not in stopword_set ]\n",
        "    #print(words)\n",
        "    return words\n",
        "\t\n",
        "print(tokenize('傅达仁今将运行安乐死，却突然爆出自己20年前遭纬来体育台封杀，他不懂自己哪里得罪到电视台。'))"
      ],
      "execution_count": 55,
      "outputs": [
        {
          "output_type": "stream",
          "text": [
            "Building prefix dict from /content/drive/My Drive/Colab Notebooks/RNN_Pytorch_Online_Shopping/dict/dict.txt.big.txt ...\n",
            "Loading model from cache /tmp/jieba.u129ee828390e518a65fdc8e349e93ce4.cache\n",
            "Loading model cost 1.246 seconds.\n",
            "Prefix dict has been built successfully.\n"
          ],
          "name": "stderr"
        },
        {
          "output_type": "stream",
          "text": [
            "['傅達仁', '今', '運行', '安樂死', '卻', '突然', '爆出', '20', '年前', '遭緯', '體育臺', '封殺', '懂', '哪裏', '得罪', '電視臺']\n"
          ],
          "name": "stdout"
        }
      ]
    },
    {
      "cell_type": "markdown",
      "metadata": {
        "id": "owZJVvV1yWiq"
      },
      "source": [
        "## 安裝pytorch"
      ]
    },
    {
      "cell_type": "code",
      "metadata": {
        "id": "F9EEBYhk0cJ_",
        "colab": {
          "base_uri": "https://localhost:8080/"
        },
        "outputId": "651bc3de-8743-4cd2-ac7a-22a3db85fd1c"
      },
      "source": [
        "!pip install torch torchvision torchtext\n",
        "\n",
        "import torch\n",
        "from torch import nn\n",
        "from torchtext.legacy import data,datasets\n",
        "\n",
        "#設置固定生成隨機數的種子，使得每次運行文件時生成的隨機數相同\n",
        "if torch.cuda.is_available():\n",
        "    print(\"gpu cuda is available!\")\n",
        "    torch.cuda.manual_seed(1000)\n",
        "else:\n",
        "    print(\"cuda is not available! cpu is available!\")\n",
        "    torch.manual_seed(1000)"
      ],
      "execution_count": 56,
      "outputs": [
        {
          "output_type": "stream",
          "text": [
            "Requirement already satisfied: torch in /usr/local/lib/python3.7/dist-packages (1.8.0+cu101)\n",
            "Requirement already satisfied: torchvision in /usr/local/lib/python3.7/dist-packages (0.9.0+cu101)\n",
            "Requirement already satisfied: torchtext in /usr/local/lib/python3.7/dist-packages (0.9.0)\n",
            "Requirement already satisfied: typing-extensions in /usr/local/lib/python3.7/dist-packages (from torch) (3.7.4.3)\n",
            "Requirement already satisfied: numpy in /usr/local/lib/python3.7/dist-packages (from torch) (1.19.5)\n",
            "Requirement already satisfied: pillow>=4.1.1 in /usr/local/lib/python3.7/dist-packages (from torchvision) (7.0.0)\n",
            "Requirement already satisfied: requests in /usr/local/lib/python3.7/dist-packages (from torchtext) (2.23.0)\n",
            "Requirement already satisfied: tqdm in /usr/local/lib/python3.7/dist-packages (from torchtext) (4.41.1)\n",
            "Requirement already satisfied: certifi>=2017.4.17 in /usr/local/lib/python3.7/dist-packages (from requests->torchtext) (2020.12.5)\n",
            "Requirement already satisfied: idna<3,>=2.5 in /usr/local/lib/python3.7/dist-packages (from requests->torchtext) (2.10)\n",
            "Requirement already satisfied: urllib3!=1.25.0,!=1.25.1,<1.26,>=1.21.1 in /usr/local/lib/python3.7/dist-packages (from requests->torchtext) (1.24.3)\n",
            "Requirement already satisfied: chardet<4,>=3.0.2 in /usr/local/lib/python3.7/dist-packages (from requests->torchtext) (3.0.4)\n",
            "gpu cuda is available!\n"
          ],
          "name": "stdout"
        }
      ]
    },
    {
      "cell_type": "code",
      "metadata": {
        "id": "iV_BEEy60_qe"
      },
      "source": [
        "CAT = data.Field(sequential=True, fix_length=20)\n",
        "LABEL = data.LabelField(dtype = torch.float)\t\n",
        "TEXT = data.Field(tokenize = tokenize,#斷詞function \t\n",
        "                      lower=True,\t#是否將數據轉小寫\n",
        "                      fix_length=100,\t#每條數據的長度\n",
        "                      stop_words=None)\n",
        "train_data, valid_data, test_data = data.TabularDataset.splits(path=SYS_DIR+'dataset/', #數據所在文件夾\n",
        "                                  train='dataset_train.csv', \t\n",
        "                                  validation='dataset_valid.csv',\t\n",
        "                                  test = 'test.csv',\t\n",
        "                                  format='csv',\n",
        "                                  skip_header=True,\t\n",
        "                                  fields = [('cat',CAT),('label', LABEL),('review', TEXT)])"
      ],
      "execution_count": 57,
      "outputs": []
    },
    {
      "cell_type": "code",
      "metadata": {
        "id": "PM6TS4qRt2DD"
      },
      "source": [
        "# 建立詞典\n",
        "#TEXT.build_vocab(train_data, vectors=\"glove.6B.100d\")#可以使用預訓練word vector\n",
        "TEXT.build_vocab(train_data, max_size=10000)\n",
        "LABEL.build_vocab(train_data)\n",
        "CAT.build_vocab(train_data)\n",
        "\n",
        "batch_size = 30\n",
        "device = torch.device('cuda')\n",
        "#Iterator是torchtext到模型的輸出\n",
        "train_iterator, test_iterator = data.BucketIterator.splits(\n",
        "    (train_data, test_data),\n",
        "    batch_size = batch_size,\n",
        "    sort_key=lambda x: len(x.review),\n",
        "    device=device\n",
        ")"
      ],
      "execution_count": 58,
      "outputs": []
    },
    {
      "cell_type": "code",
      "metadata": {
        "id": "s61ZwF1DmpRt"
      },
      "source": [
        "#創⼀個資料夾存模型\n",
        "if not os.path.isdir(trained_Model_Path):\n",
        "    os.mkdir(trained_Model_Path)"
      ],
      "execution_count": 59,
      "outputs": []
    },
    {
      "cell_type": "code",
      "metadata": {
        "id": "mORCQHIyll46"
      },
      "source": [
        "vocab_size=len(TEXT.vocab) #詞典大小\n",
        "embedding_dim=7000 # 詞向量維度\n",
        "hidden_dim=100 # 隱藏層維度\n",
        "output_dim=1 # 輸出層"
      ],
      "execution_count": 60,
      "outputs": []
    },
    {
      "cell_type": "markdown",
      "metadata": {
        "id": "fhRlqkBGUqoY"
      },
      "source": [
        "## 定義模型\n",
        "可用torch.nn.Linear 也可用 nn.LSTM 定義你自己的神經網路"
      ]
    },
    {
      "cell_type": "code",
      "metadata": {
        "id": "CI40-FkGt9U7"
      },
      "source": [
        "class RNN(nn.Module):\n",
        "    def __init__(self, vocab_size, embedding_dim, hidden_dim , output_dim):\n",
        "        super().__init__()\n",
        "        self.embedding = nn.Embedding(vocab_size, embedding_dim)\n",
        "        self.rnn = nn.RNN(embedding_dim, hidden_dim)\n",
        "        self.fc = nn.Linear(hidden_dim, output_dim)        \n",
        "    def forward(self, text):\n",
        "        embedded = self.embedding(text)\n",
        "        output, hidden = self.rnn(embedded)\n",
        "        assert torch.equal(output[-1,:,:], hidden.squeeze(0))\n",
        "        return self.fc(hidden.squeeze(0))"
      ],
      "execution_count": 61,
      "outputs": []
    },
    {
      "cell_type": "code",
      "metadata": {
        "id": "yaPrIwjut_4k",
        "colab": {
          "base_uri": "https://localhost:8080/"
        },
        "outputId": "cb051ca6-6478-416b-e414-b00b7857f097"
      },
      "source": [
        "rnn = RNN(vocab_size, embedding_dim, hidden_dim , output_dim)\n",
        "pretrained_embedding = TEXT.vocab.vectors\n",
        "#優化器\n",
        "optimizer = torch.optim.Adam(rnn.parameters(), lr=1e-3)\n",
        "loss_func = torch.nn.BCEWithLogitsLoss().to(device) #因為我們輸出只有1個，所以選用binary cross entropy\n",
        "#用gpu\n",
        "rnn.to(device)"
      ],
      "execution_count": 62,
      "outputs": [
        {
          "output_type": "execute_result",
          "data": {
            "text/plain": [
              "RNN(\n",
              "  (embedding): Embedding(10002, 7000)\n",
              "  (rnn): RNN(7000, 100)\n",
              "  (fc): Linear(in_features=100, out_features=1, bias=True)\n",
              ")"
            ]
          },
          "metadata": {
            "tags": []
          },
          "execution_count": 62
        }
      ]
    },
    {
      "cell_type": "code",
      "metadata": {
        "id": "ApUfEtRAuTJt"
      },
      "source": [
        "#定義計算正確率\n",
        "def binary_acc(preds, y):\n",
        "    \"\"\"\n",
        "    準確率\n",
        "    \"\"\"\n",
        "    preds = torch.round(torch.sigmoid(preds))\n",
        "    correct = torch.eq(preds, y).float()\n",
        "    acc = correct.sum() / len(correct)\n",
        "    return acc\n",
        "#定義訓練方式\n",
        "def train(rnn, epoch, iterator, optimizer, loss_func):\n",
        "\n",
        "    rnn.train() # 訓練模式\n",
        "\n",
        "    avg_acc = []\n",
        "    TrainAcc = 0.0\n",
        "    TrainLoss = 0.0\n",
        "    \n",
        "    for step,batch in enumerate(iterator):\n",
        "\n",
        "        optimizer.zero_grad() #優化器優化之前須將梯度歸零\n",
        "\n",
        "        # [seq, b] => [b, 1] => [b]\n",
        "        pred = rnn(batch.review).squeeze(1)\n",
        "    \n",
        "        acc = binary_acc(pred, batch.label).item() # 取得正確率\n",
        "        TrainAcc=TrainAcc+acc\n",
        "        avg_acc.append(acc)\n",
        "\n",
        "        loss = loss_func(pred, batch.label) # loss計算\n",
        "        TrainLoss = TrainLoss + loss\n",
        "        \n",
        "        loss.backward() #反向傳遞\n",
        "        optimizer.step() #通過梯度做參數更新(更新權重)\n",
        "            \n",
        "    TrainLoss = TrainLoss / (step+1) # epoch loss\n",
        "    TrainAcc = TrainAcc / (step+1) # epoch acc    \n",
        "    avg_acc = np.array(avg_acc).mean()\n",
        "    print('epoch : %d ,TrainLoss: %f , TrainAcc acc: %f , avg TrainAcc acc: %f ' %(epoch+1,round(TrainLoss.item(),3), round(TrainAcc,3), avg_acc ))\n",
        "\n",
        "    if avg_acc > 0.9:\n",
        "      torch.save(rnn, SYS_DIR+trained_Model_Path+'/'+trained_Model_Name) #存模型\n",
        "      #torch.save(rnn.state_dict(), SYS_DIR+trained_Model_Path+'/'+trained_Model_Name) #只存權重\n",
        "      print('save done')\n",
        "    \n",
        "#定義評估模式  \n",
        "def eval(rnn, epoch , iterator, loss_func):\n",
        "\n",
        "    rnn.eval() # 評估模式\n",
        "    \n",
        "    avg_acc = []\n",
        "    TestAcc = 0.0\n",
        "    TestLoss = 0.0    \n",
        "    \n",
        "    with torch.no_grad():\n",
        "        for step,batch in enumerate(iterator):\n",
        "            # [b, 1] => [b]\n",
        "            pred = rnn(batch.review).squeeze(1)\n",
        "\n",
        "            acc = binary_acc(pred, batch.label).item() # 取得正確率\n",
        "            TestAcc = TestAcc + acc\n",
        "            avg_acc.append(acc)\n",
        "\n",
        "            loss = loss_func(pred, batch.label) # loss計算\n",
        "            TestLoss = TestLoss + loss\n",
        "            \n",
        "            #if step%20 == 0:print('test loss: %.4f, test acc: %.2f' %(loss, acc))\n",
        "\n",
        "        TestLoss = TestLoss / (step+1)\n",
        "        TestAcc = TestAcc / (step+1)\n",
        "        avg_acc = np.array(avg_acc).mean()\n",
        "        print('epoch : %d ,TestLoss: %f , TestAcc acc: %f , avg TestAcc acc: %f ' %(epoch+1,round(TestLoss.item(),3), round(TestAcc,3), avg_acc ))\n",
        "\n",
        "def predict_sentiment(net,sentence):\n",
        "    net.eval()\n",
        "    # 分詞\n",
        "    tokenized = tokenize(sentence)\n",
        "    # sentence 的索引\n",
        "    indexed = [TEXT.vocab.stoi[t] for t in tokenized]\n",
        "\n",
        "    tensor = torch.LongTensor(indexed).to(device)  # seq_len\n",
        "    tensor = tensor.unsqueeze(1)   # seq_len * batch_size (1)\n",
        "\n",
        "    # tensor寫text一樣的tensor\n",
        "    prediction = torch.sigmoid(net(tensor))\n",
        "\n",
        "    return prediction.item()    \n"
      ],
      "execution_count": 64,
      "outputs": []
    },
    {
      "cell_type": "code",
      "metadata": {
        "id": "D9beWnAVuYdD",
        "colab": {
          "base_uri": "https://localhost:8080/"
        },
        "outputId": "3df39c51-4276-4f07-b210-117a3ef75c39"
      },
      "source": [
        "# 開始訓練\n",
        "print('start train')\n",
        "for epoch in range(10):\n",
        "  train(rnn, epoch , train_iterator, optimizer, loss_func)\n",
        "  eval(rnn, epoch , test_iterator, loss_func)\n",
        "print('end train')\n",
        "torch.save(rnn, SYS_DIR+trained_Model_Path+'/'+trained_Model_Name) #存模型"
      ],
      "execution_count": 65,
      "outputs": [
        {
          "output_type": "stream",
          "text": [
            "start train\n",
            "epoch : 1 ,TrainLoss: 0.695000 , TrainAcc acc: 0.500000 , avg TrainAcc acc: 0.500000 \n",
            "epoch : 1 ,TestLoss: 0.704000 , TestAcc acc: 0.508000 , avg TestAcc acc: 0.508417 \n",
            "epoch : 2 ,TrainLoss: 0.691000 , TrainAcc acc: 0.506000 , avg TrainAcc acc: 0.506120 \n",
            "epoch : 2 ,TestLoss: 0.697000 , TestAcc acc: 0.490000 , avg TestAcc acc: 0.489750 \n",
            "epoch : 3 ,TrainLoss: 0.690000 , TrainAcc acc: 0.503000 , avg TrainAcc acc: 0.503073 \n",
            "epoch : 3 ,TestLoss: 0.697000 , TestAcc acc: 0.509000 , avg TestAcc acc: 0.508583 \n",
            "epoch : 4 ,TrainLoss: 0.689000 , TrainAcc acc: 0.506000 , avg TrainAcc acc: 0.506198 \n",
            "epoch : 4 ,TestLoss: 0.698000 , TestAcc acc: 0.509000 , avg TestAcc acc: 0.508750 \n",
            "epoch : 5 ,TrainLoss: 0.689000 , TrainAcc acc: 0.503000 , avg TrainAcc acc: 0.502552 \n",
            "epoch : 5 ,TestLoss: 0.699000 , TestAcc acc: 0.509000 , avg TestAcc acc: 0.509000 \n",
            "epoch : 6 ,TrainLoss: 0.689000 , TrainAcc acc: 0.505000 , avg TrainAcc acc: 0.505000 \n",
            "epoch : 6 ,TestLoss: 0.700000 , TestAcc acc: 0.509000 , avg TestAcc acc: 0.508833 \n",
            "epoch : 7 ,TrainLoss: 0.688000 , TrainAcc acc: 0.508000 , avg TrainAcc acc: 0.508021 \n",
            "epoch : 7 ,TestLoss: 0.700000 , TestAcc acc: 0.509000 , avg TestAcc acc: 0.509000 \n",
            "epoch : 8 ,TrainLoss: 0.689000 , TrainAcc acc: 0.500000 , avg TrainAcc acc: 0.499557 \n",
            "epoch : 8 ,TestLoss: 0.701000 , TestAcc acc: 0.509000 , avg TestAcc acc: 0.509083 \n",
            "epoch : 9 ,TrainLoss: 0.688000 , TrainAcc acc: 0.504000 , avg TrainAcc acc: 0.503646 \n",
            "epoch : 9 ,TestLoss: 0.701000 , TestAcc acc: 0.509000 , avg TestAcc acc: 0.509333 \n",
            "epoch : 10 ,TrainLoss: 0.689000 , TrainAcc acc: 0.504000 , avg TrainAcc acc: 0.504167 \n",
            "epoch : 10 ,TestLoss: 0.702000 , TestAcc acc: 0.491000 , avg TestAcc acc: 0.490750 \n",
            "end train\n"
          ],
          "name": "stdout"
        }
      ]
    },
    {
      "cell_type": "markdown",
      "metadata": {
        "id": "Gnd82icKkuw_"
      },
      "source": [
        "## 讀取模型並預測"
      ]
    },
    {
      "cell_type": "code",
      "metadata": {
        "id": "UKBbMa6GioeH",
        "colab": {
          "base_uri": "https://localhost:8080/",
          "height": 563
        },
        "outputId": "069744a0-6af9-4198-a68b-fb5352356fda"
      },
      "source": [
        "net = torch.load(SYS_DIR+trained_Model_Path+'/'+trained_Model_Name)\n",
        "\n",
        "while True:\n",
        "  user_key = input(\"輸入評價:\")\n",
        "  if(user_key=='end'):\n",
        "    break\n",
        "  score=predict_sentiment(net,user_key)\n",
        "  if score>0.5:\n",
        "    print(score,':正面')\n",
        "  else:\n",
        "    print(score,'負面')"
      ],
      "execution_count": 66,
      "outputs": [
        {
          "output_type": "stream",
          "text": [
            "輸入評價:哈哈哈\n",
            "0.1366596817970276 負面\n"
          ],
          "name": "stdout"
        },
        {
          "output_type": "error",
          "ename": "KeyboardInterrupt",
          "evalue": "ignored",
          "traceback": [
            "\u001b[0;31m---------------------------------------------------------------------------\u001b[0m",
            "\u001b[0;31mKeyboardInterrupt\u001b[0m                         Traceback (most recent call last)",
            "\u001b[0;32m/usr/local/lib/python3.7/dist-packages/ipykernel/kernelbase.py\u001b[0m in \u001b[0;36m_input_request\u001b[0;34m(self, prompt, ident, parent, password)\u001b[0m\n\u001b[1;32m    728\u001b[0m             \u001b[0;32mtry\u001b[0m\u001b[0;34m:\u001b[0m\u001b[0;34m\u001b[0m\u001b[0;34m\u001b[0m\u001b[0m\n\u001b[0;32m--> 729\u001b[0;31m                 \u001b[0mident\u001b[0m\u001b[0;34m,\u001b[0m \u001b[0mreply\u001b[0m \u001b[0;34m=\u001b[0m \u001b[0mself\u001b[0m\u001b[0;34m.\u001b[0m\u001b[0msession\u001b[0m\u001b[0;34m.\u001b[0m\u001b[0mrecv\u001b[0m\u001b[0;34m(\u001b[0m\u001b[0mself\u001b[0m\u001b[0;34m.\u001b[0m\u001b[0mstdin_socket\u001b[0m\u001b[0;34m,\u001b[0m \u001b[0;36m0\u001b[0m\u001b[0;34m)\u001b[0m\u001b[0;34m\u001b[0m\u001b[0;34m\u001b[0m\u001b[0m\n\u001b[0m\u001b[1;32m    730\u001b[0m             \u001b[0;32mexcept\u001b[0m \u001b[0mException\u001b[0m\u001b[0;34m:\u001b[0m\u001b[0;34m\u001b[0m\u001b[0;34m\u001b[0m\u001b[0m\n",
            "\u001b[0;32m/usr/local/lib/python3.7/dist-packages/jupyter_client/session.py\u001b[0m in \u001b[0;36mrecv\u001b[0;34m(self, socket, mode, content, copy)\u001b[0m\n\u001b[1;32m    802\u001b[0m         \u001b[0;32mtry\u001b[0m\u001b[0;34m:\u001b[0m\u001b[0;34m\u001b[0m\u001b[0;34m\u001b[0m\u001b[0m\n\u001b[0;32m--> 803\u001b[0;31m             \u001b[0mmsg_list\u001b[0m \u001b[0;34m=\u001b[0m \u001b[0msocket\u001b[0m\u001b[0;34m.\u001b[0m\u001b[0mrecv_multipart\u001b[0m\u001b[0;34m(\u001b[0m\u001b[0mmode\u001b[0m\u001b[0;34m,\u001b[0m \u001b[0mcopy\u001b[0m\u001b[0;34m=\u001b[0m\u001b[0mcopy\u001b[0m\u001b[0;34m)\u001b[0m\u001b[0;34m\u001b[0m\u001b[0;34m\u001b[0m\u001b[0m\n\u001b[0m\u001b[1;32m    804\u001b[0m         \u001b[0;32mexcept\u001b[0m \u001b[0mzmq\u001b[0m\u001b[0;34m.\u001b[0m\u001b[0mZMQError\u001b[0m \u001b[0;32mas\u001b[0m \u001b[0me\u001b[0m\u001b[0;34m:\u001b[0m\u001b[0;34m\u001b[0m\u001b[0;34m\u001b[0m\u001b[0m\n",
            "\u001b[0;32m/usr/local/lib/python3.7/dist-packages/zmq/sugar/socket.py\u001b[0m in \u001b[0;36mrecv_multipart\u001b[0;34m(self, flags, copy, track)\u001b[0m\n\u001b[1;32m    582\u001b[0m         \"\"\"\n\u001b[0;32m--> 583\u001b[0;31m         \u001b[0mparts\u001b[0m \u001b[0;34m=\u001b[0m \u001b[0;34m[\u001b[0m\u001b[0mself\u001b[0m\u001b[0;34m.\u001b[0m\u001b[0mrecv\u001b[0m\u001b[0;34m(\u001b[0m\u001b[0mflags\u001b[0m\u001b[0;34m,\u001b[0m \u001b[0mcopy\u001b[0m\u001b[0;34m=\u001b[0m\u001b[0mcopy\u001b[0m\u001b[0;34m,\u001b[0m \u001b[0mtrack\u001b[0m\u001b[0;34m=\u001b[0m\u001b[0mtrack\u001b[0m\u001b[0;34m)\u001b[0m\u001b[0;34m]\u001b[0m\u001b[0;34m\u001b[0m\u001b[0;34m\u001b[0m\u001b[0m\n\u001b[0m\u001b[1;32m    584\u001b[0m         \u001b[0;31m# have first part already, only loop while more to receive\u001b[0m\u001b[0;34m\u001b[0m\u001b[0;34m\u001b[0m\u001b[0;34m\u001b[0m\u001b[0m\n",
            "\u001b[0;32mzmq/backend/cython/socket.pyx\u001b[0m in \u001b[0;36mzmq.backend.cython.socket.Socket.recv\u001b[0;34m()\u001b[0m\n",
            "\u001b[0;32mzmq/backend/cython/socket.pyx\u001b[0m in \u001b[0;36mzmq.backend.cython.socket.Socket.recv\u001b[0;34m()\u001b[0m\n",
            "\u001b[0;32mzmq/backend/cython/socket.pyx\u001b[0m in \u001b[0;36mzmq.backend.cython.socket._recv_copy\u001b[0;34m()\u001b[0m\n",
            "\u001b[0;32m/usr/local/lib/python3.7/dist-packages/zmq/backend/cython/checkrc.pxd\u001b[0m in \u001b[0;36mzmq.backend.cython.checkrc._check_rc\u001b[0;34m()\u001b[0m\n",
            "\u001b[0;31mKeyboardInterrupt\u001b[0m: ",
            "\nDuring handling of the above exception, another exception occurred:\n",
            "\u001b[0;31mKeyboardInterrupt\u001b[0m                         Traceback (most recent call last)",
            "\u001b[0;32m<ipython-input-66-01366f276490>\u001b[0m in \u001b[0;36m<module>\u001b[0;34m()\u001b[0m\n\u001b[1;32m      2\u001b[0m \u001b[0;34m\u001b[0m\u001b[0m\n\u001b[1;32m      3\u001b[0m \u001b[0;32mwhile\u001b[0m \u001b[0;32mTrue\u001b[0m\u001b[0;34m:\u001b[0m\u001b[0;34m\u001b[0m\u001b[0;34m\u001b[0m\u001b[0m\n\u001b[0;32m----> 4\u001b[0;31m   \u001b[0muser_key\u001b[0m \u001b[0;34m=\u001b[0m \u001b[0minput\u001b[0m\u001b[0;34m(\u001b[0m\u001b[0;34m\"輸入評價:\"\u001b[0m\u001b[0;34m)\u001b[0m\u001b[0;34m\u001b[0m\u001b[0;34m\u001b[0m\u001b[0m\n\u001b[0m\u001b[1;32m      5\u001b[0m   \u001b[0;32mif\u001b[0m\u001b[0;34m(\u001b[0m\u001b[0muser_key\u001b[0m\u001b[0;34m==\u001b[0m\u001b[0;34m'end'\u001b[0m\u001b[0;34m)\u001b[0m\u001b[0;34m:\u001b[0m\u001b[0;34m\u001b[0m\u001b[0;34m\u001b[0m\u001b[0m\n\u001b[1;32m      6\u001b[0m     \u001b[0;32mbreak\u001b[0m\u001b[0;34m\u001b[0m\u001b[0;34m\u001b[0m\u001b[0m\n",
            "\u001b[0;32m/usr/local/lib/python3.7/dist-packages/ipykernel/kernelbase.py\u001b[0m in \u001b[0;36mraw_input\u001b[0;34m(self, prompt)\u001b[0m\n\u001b[1;32m    702\u001b[0m             \u001b[0mself\u001b[0m\u001b[0;34m.\u001b[0m\u001b[0m_parent_ident\u001b[0m\u001b[0;34m,\u001b[0m\u001b[0;34m\u001b[0m\u001b[0;34m\u001b[0m\u001b[0m\n\u001b[1;32m    703\u001b[0m             \u001b[0mself\u001b[0m\u001b[0;34m.\u001b[0m\u001b[0m_parent_header\u001b[0m\u001b[0;34m,\u001b[0m\u001b[0;34m\u001b[0m\u001b[0;34m\u001b[0m\u001b[0m\n\u001b[0;32m--> 704\u001b[0;31m             \u001b[0mpassword\u001b[0m\u001b[0;34m=\u001b[0m\u001b[0;32mFalse\u001b[0m\u001b[0;34m,\u001b[0m\u001b[0;34m\u001b[0m\u001b[0;34m\u001b[0m\u001b[0m\n\u001b[0m\u001b[1;32m    705\u001b[0m         )\n\u001b[1;32m    706\u001b[0m \u001b[0;34m\u001b[0m\u001b[0m\n",
            "\u001b[0;32m/usr/local/lib/python3.7/dist-packages/ipykernel/kernelbase.py\u001b[0m in \u001b[0;36m_input_request\u001b[0;34m(self, prompt, ident, parent, password)\u001b[0m\n\u001b[1;32m    732\u001b[0m             \u001b[0;32mexcept\u001b[0m \u001b[0mKeyboardInterrupt\u001b[0m\u001b[0;34m:\u001b[0m\u001b[0;34m\u001b[0m\u001b[0;34m\u001b[0m\u001b[0m\n\u001b[1;32m    733\u001b[0m                 \u001b[0;31m# re-raise KeyboardInterrupt, to truncate traceback\u001b[0m\u001b[0;34m\u001b[0m\u001b[0;34m\u001b[0m\u001b[0;34m\u001b[0m\u001b[0m\n\u001b[0;32m--> 734\u001b[0;31m                 \u001b[0;32mraise\u001b[0m \u001b[0mKeyboardInterrupt\u001b[0m\u001b[0;34m\u001b[0m\u001b[0;34m\u001b[0m\u001b[0m\n\u001b[0m\u001b[1;32m    735\u001b[0m             \u001b[0;32melse\u001b[0m\u001b[0;34m:\u001b[0m\u001b[0;34m\u001b[0m\u001b[0;34m\u001b[0m\u001b[0m\n\u001b[1;32m    736\u001b[0m                 \u001b[0;32mbreak\u001b[0m\u001b[0;34m\u001b[0m\u001b[0;34m\u001b[0m\u001b[0m\n",
            "\u001b[0;31mKeyboardInterrupt\u001b[0m: "
          ]
        }
      ]
    }
  ]
}