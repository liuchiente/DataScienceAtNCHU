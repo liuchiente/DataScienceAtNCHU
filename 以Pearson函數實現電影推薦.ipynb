{
  "cells": [
    {
      "cell_type": "markdown",
      "metadata": {
        "id": "view-in-github",
        "colab_type": "text"
      },
      "source": [
        "<a href=\"https://colab.research.google.com/github/liuchiente/data_science/blob/main/%E4%BB%A5Pearson%E5%87%BD%E6%95%B8%E5%AF%A6%E7%8F%BE%E9%9B%BB%E5%BD%B1%E6%8E%A8%E8%96%A6.ipynb\" target=\"_parent\"><img src=\"https://colab.research.google.com/assets/colab-badge.svg\" alt=\"Open In Colab\"/></a>"
      ]
    },
    {
      "cell_type": "markdown",
      "source": [
        "# 準備環境\n",
        "\n",
        "1.   掛載硬碟\n",
        "2.   安裝套件\n",
        "3.   引入函式庫"
      ],
      "metadata": {
        "id": "zfvMpSJT678Q"
      }
    },
    {
      "cell_type": "code",
      "execution_count": 2,
      "metadata": {
        "colab": {
          "base_uri": "https://localhost:8080/"
        },
        "id": "0PO2pOo27v1k",
        "outputId": "a7923796-5270-4297-c396-a0bcd7836524"
      },
      "outputs": [
        {
          "output_type": "stream",
          "name": "stdout",
          "text": [
            "Mounted at /content/drive\n"
          ]
        }
      ],
      "source": [
        "#掛載硬碟\n",
        "SYS_DIR = \"/content/drive/My Drive/Colab Notebooks/MovieLens\"\n",
        "from google.colab import drive\n",
        "drive.mount('/content/drive', force_remount=True)"
      ]
    },
    {
      "cell_type": "code",
      "execution_count": 7,
      "metadata": {
        "id": "YLOgvh9q8Uvf"
      },
      "outputs": [],
      "source": [
        "#引入函式庫\n",
        "import numpy as np\n",
        "import pandas as pd\n",
        "import torch\n",
        "from torch import nn\n",
        "from torchtext import data, datasets\n",
        "import nltk\n",
        "import os\n",
        "import zipfile"
      ]
    },
    {
      "cell_type": "code",
      "source": [
        "#切換預設工作目錄切換預設工作目錄\n",
        "if not os.path.isdir(SYS_DIR):\n",
        "    os.mkdir(SYS_DIR)\n",
        "os.chdir(SYS_DIR)"
      ],
      "metadata": {
        "id": "dz4iHV2i7LzR"
      },
      "execution_count": 4,
      "outputs": []
    },
    {
      "cell_type": "markdown",
      "source": [
        "# 資料處理\n",
        "\n",
        "1.  下載資料\n",
        "2.  資料清洗"
      ],
      "metadata": {
        "id": "4Z_E6oNd8Mbh"
      }
    },
    {
      "cell_type": "code",
      "execution_count": null,
      "metadata": {
        "id": "I7KiH5lR-Wau"
      },
      "outputs": [],
      "source": [
        "#下載資料集\n",
        "!wget http://files.grouplens.org/datasets/movielens/ml-1m.zip"
      ]
    },
    {
      "cell_type": "code",
      "execution_count": 5,
      "metadata": {
        "id": "Yo39Ebtr-iW4"
      },
      "outputs": [],
      "source": [
        "with zipfile.ZipFile('ml-1m.zip', 'r') as zip_ref:\n",
        "    zip_ref.extractall('ml-1m')"
      ]
    },
    {
      "cell_type": "code",
      "execution_count": null,
      "metadata": {
        "id": "zoX0ZYUuD0SZ"
      },
      "outputs": [],
      "source": [
        "#資料處理\n",
        "unames = ['user_id', 'gender', 'age', 'occupation', 'zip']\n",
        "users = pd.read_table('ml-1m/ml-1m/users.dat', sep='::', header=None, names=unames, engine='python')\n",
        "rnames = ['user_id', 'movie_id', 'rating', 'timestamp']\n",
        "ratings = pd.read_table('ml-1m/ml-1m/ratings.dat', sep='::', header=None, names=rnames, engine='python')\n",
        "mnames = ['movie_id', 'title', 'genres']\n",
        "movies = pd.read_table('ml-1m/ml-1m/movies.dat', sep='::', header=None, names=mnames, engine='python')\n"
      ]
    },
    {
      "cell_type": "code",
      "execution_count": null,
      "metadata": {
        "id": "a9TeTmJdRX-_"
      },
      "outputs": [],
      "source": [
        "#載入預測資料\n",
        "snames = ['movie_id', 'title', 'genres','rating']\n",
        "sample = pd.read_table('sample.dat', sep='::', header=None, names=snames, engine='python')\n",
        "tnames = ['movie_id', 'title', 'genres','rating']\n",
        "test = pd.read_table('test.dat', sep='::', header=None, names=tnames, engine='python')"
      ]
    },
    {
      "cell_type": "code",
      "execution_count": null,
      "metadata": {
        "id": "lVC1Mbz4DBXp"
      },
      "outputs": [],
      "source": [
        "#看預測資料集\n",
        "#合併資料集原本評分、預測資料集\n",
        "pred_user=pd.concat([sample,test],axis=0)\n",
        "pred_movie_list=list(pred_user['movie_id'])"
      ]
    },
    {
      "cell_type": "code",
      "execution_count": null,
      "metadata": {
        "id": "Ka9BpFTiEUjR"
      },
      "outputs": [],
      "source": [
        "#找出也有符合被預測人的評分清單\n",
        "rating_in_pred=ratings[ratings['movie_id'].isin(pred_movie_list)]"
      ]
    },
    {
      "cell_type": "code",
      "execution_count": null,
      "metadata": {
        "id": "GdJUNEgqIkc7"
      },
      "outputs": [],
      "source": [
        "#嘗試找出要被預測的電影有沒有不在清單中\n",
        "print(rating_in_pred[~rating_in_pred['movie_id'].isin(pred_movie_list)])\n",
        "print(rating_in_pred)"
      ]
    },
    {
      "cell_type": "code",
      "execution_count": null,
      "metadata": {
        "id": "B-9ssCG5kFPb"
      },
      "outputs": [],
      "source": [
        "#找出和預測電影有交集的使用者\n",
        "match_users=rating_in_pred['user_id'].unique()"
      ]
    },
    {
      "cell_type": "code",
      "execution_count": null,
      "metadata": {
        "id": "8qMeZXcJErXZ"
      },
      "outputs": [],
      "source": [
        "#合併評分和電影集\n",
        "rating_moive=pd.merge(left=rating_in_pred,right=movies,on='movie_id')\n",
        "rating_moive=rating_moive.drop(\"timestamp\", axis = 1)"
      ]
    },
    {
      "cell_type": "code",
      "execution_count": null,
      "metadata": {
        "id": "63iZLvIO1RBi"
      },
      "outputs": [],
      "source": [
        "# Peasoon distance定義\n",
        "def peasoon_distance(data_xp):\n",
        "  #對方的平均\n",
        "  user_avg=data_xp['rating_x'].mean()\n",
        "  #自己平均\n",
        "  pred_avg=data_xp['rating_y'].mean()\n",
        "  corr=0\n",
        "  coff1=0\n",
        "  coff2=0\n",
        "  for data_xx in data_xp.itertuples():\n",
        "    #對方座標\n",
        "    prd_x=float(data_xx.rating_x)\n",
        "    #自己座標\n",
        "    prd_y=float(data_xx.rating_y)\n",
        "    corr+=(prd_x-user_avg)*(prd_y-pred_avg)\n",
        "    coff1+=(prd_x-user_avg)**2\n",
        "    coff2+=(prd_y-pred_avg)**2\n",
        "  ps_dist=corr\n",
        "  if corr!=0:\n",
        "    ps_dist=corr/(coff1*coff2)**(0.5)\n",
        "  return ps_dist"
      ]
    },
    {
      "cell_type": "code",
      "execution_count": null,
      "metadata": {
        "id": "Ye4SP2-0EULv"
      },
      "outputs": [],
      "source": [
        "#計算每個使用者的相似度\n",
        "user_dist=[]\n",
        "for match_user in match_users:\n",
        "   data_x=rating_moive[rating_moive['user_id']==match_user]\n",
        "   data_prd=pd.merge(data_x,pred_user[pred_user['rating']>0], left_on=\"movie_id\", right_on=\"movie_id\")\n",
        "   user_dist.append([match_user,peasoon_distance(data_prd)])\n",
        "user_dist_sort=sorted(user_dist, key = lambda x: x[1],reverse=True)"
      ]
    },
    {
      "cell_type": "code",
      "execution_count": null,
      "metadata": {
        "id": "IzVfwy6NzPLp"
      },
      "outputs": [],
      "source": [
        "#找出K個鄰居相似度\n",
        "k=350\n",
        "pred_movies=[]"
      ]
    },
    {
      "cell_type": "code",
      "execution_count": null,
      "metadata": {
        "id": "_95BG_P6ybim"
      },
      "outputs": [],
      "source": [
        "for user_for_pred in pred_user[pred_user['rating']<0].itertuples():\n",
        "  pred_movie={}\n",
        "  pred_movie['movie_id']=user_for_pred.movie_id\n",
        "  pred_movie['title']=user_for_pred.title\n",
        "  sim_sum=0\n",
        "  rate_sum=0\n",
        "  for i in range(k):\n",
        "    user=user_dist_sort[i]\n",
        "    #帳號\n",
        "    user_id=user[0]\n",
        "    #相似度\n",
        "    user_sim=user[1]\n",
        "    #找到相同的使用者對相同電影評價\n",
        "    data_user_movies=rating_moive.loc[(rating_moive['user_id']==user_id)&(rating_moive['movie_id']==user_for_pred.movie_id)]\n",
        "    if not data_user_movies.empty:\n",
        "      #累加相似度\n",
        "      sim_sum=sim_sum+user_sim\n",
        "      #累加評分\n",
        "      rate_sum=rate_sum+float(data_user_movies['rating'])\n",
        "  if sim_sum<=0:\n",
        "    #如果都找不到使用者有啥評價...?\n",
        "    print(user_for_pred.movie_id)\n",
        "  #把有相同評價的使用者的評分加總/相似度加總\n",
        "  raring_pred=round(rate_sum/sim_sum,2)\n",
        "  pred_movie['rating']=raring_pred\n",
        "  pred_movies.append(pred_movie)\n",
        "\n",
        "for  pred in pred_movies:\n",
        "  print('movie_id: {} , title: {} , rating: {}'.format(pred['movie_id'],pred['title'],pred['rating']))\n"
      ]
    },
    {
      "cell_type": "code",
      "execution_count": null,
      "metadata": {
        "id": "pMB-cFJahIFS"
      },
      "outputs": [],
      "source": [
        "while len(pred_user[pred_user['rating']<0])>0:\n",
        "  user_dis=user_dist_sort.pop(0)\n",
        "  user=user_dis[0]\n",
        "  data_user_movies=rating_moive[rating_moive['user_id']==user]\n",
        "  du_max=data_user_movies['rating'].max()\n",
        "  du_min=data_user_movies['rating'].min()\n",
        "  for data_user_movie in data_user_movies.itertuples():\n",
        "    pred_user.loc[pred_user.movie_id == data_user_movie.movie_id, \"rating\"]=data_user_movie.rating"
      ]
    },
    {
      "cell_type": "markdown",
      "metadata": {
        "id": "ulF-R1KTG6HB"
      },
      "source": [
        ""
      ]
    },
    {
      "cell_type": "code",
      "execution_count": null,
      "metadata": {
        "id": "AfSdgQZ9Xbu8"
      },
      "outputs": [],
      "source": [
        "#儲存清洗後的資料\n",
        "data_clean.to_csv('data_clean_o.csv',index=False)\n",
        "#儲存清洗後的資料,移除掉header\n",
        "data_clean.to_csv('data_clean.csv', header=False, index=False)\n",
        "pred_user.to_csv('pred_user.csv')"
      ]
    },
    {
      "cell_type": "code",
      "execution_count": null,
      "metadata": {
        "id": "J75gBLB5CD2Q"
      },
      "outputs": [],
      "source": [
        "data_clean_o=pd.read_csv('data_clean_o.csv')\n",
        "pred_user=pd.read_csv('pred_user.csv')"
      ]
    },
    {
      "cell_type": "code",
      "execution_count": null,
      "metadata": {
        "id": "qbb5rzYxT5FT"
      },
      "outputs": [],
      "source": [
        "print(data_clean_o[data_clean_o['user_id']==1])"
      ]
    }
  ],
  "metadata": {
    "colab": {
      "collapsed_sections": [],
      "name": "以Pearson函數實現電影推薦",
      "provenance": [],
      "mount_file_id": "1WegMmkj9KHzgmD1QqH8EZXNr8Bx79Oxy",
      "authorship_tag": "ABX9TyPJE4Z729zQcOLSSyqBex3l",
      "include_colab_link": true
    },
    "kernelspec": {
      "display_name": "Python 3",
      "name": "python3"
    }
  },
  "nbformat": 4,
  "nbformat_minor": 0
}